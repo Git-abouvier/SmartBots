{
 "cells": [
  {
   "cell_type": "markdown",
   "metadata": {
    "pycharm": {
     "name": "#%% md\n"
    }
   },
   "source": [
    "# Trading Manager for Crypto\n",
    "\n",
    "This notebook allow to comunicate with the services running in real time. All the comunications it is with MQ messages."
   ]
  },
  {
   "cell_type": "code",
   "execution_count": 1,
   "metadata": {
    "pycharm": {
     "name": "#%%\n"
    }
   },
   "outputs": [
    {
     "name": "stderr",
     "output_type": "stream",
     "text": [
      "/usr/local/lib/python3.8/site-packages/arctic/store/_pandas_ndarray_store.py:8: FutureWarning: The Panel class is removed from pandas. Accessing it from the top-level namespace will also be removed in the next version\n",
      "  from pandas import Panel\n"
     ]
    },
    {
     "ename": "ValueError",
     "evalue": "Port must be an integer between 0 and 65535: None",
     "output_type": "error",
     "traceback": [
      "\u001b[0;31m---------------------------------------------------------------------------\u001b[0m",
      "\u001b[0;31mValueError\u001b[0m                                Traceback (most recent call last)",
      "Cell \u001b[0;32mIn [1], line 39\u001b[0m\n\u001b[1;32m     37\u001b[0m \u001b[38;5;66;03m# Conection to the database\u001b[39;00m\n\u001b[1;32m     38\u001b[0m store \u001b[38;5;241m=\u001b[39m Universe()\n\u001b[0;32m---> 39\u001b[0m lib_petitions \u001b[38;5;241m=\u001b[39m \u001b[43mstore\u001b[49m\u001b[38;5;241;43m.\u001b[39;49m\u001b[43mget_library\u001b[49m\u001b[43m(\u001b[49m\u001b[38;5;124;43m'\u001b[39;49m\u001b[38;5;124;43mpetitions\u001b[39;49m\u001b[38;5;124;43m'\u001b[39;49m\u001b[43m)\u001b[49m\n\u001b[1;32m     40\u001b[0m \u001b[38;5;66;03m# Conection to broker mq\u001b[39;00m\n\u001b[1;32m     41\u001b[0m emiter \u001b[38;5;241m=\u001b[39m Emit_Events()\n",
      "File \u001b[0;32m/app/src/infrastructure/database_handler.py:28\u001b[0m, in \u001b[0;36mUniverse.get_library\u001b[0;34m(self, name_library, library_chunk_store)\u001b[0m\n\u001b[1;32m     27\u001b[0m \u001b[38;5;28;01mdef\u001b[39;00m \u001b[38;5;21mget_library\u001b[39m(\u001b[38;5;28mself\u001b[39m, name_library, library_chunk_store\u001b[38;5;241m=\u001b[39m\u001b[38;5;28;01mTrue\u001b[39;00m):\n\u001b[0;32m---> 28\u001b[0m     \u001b[38;5;28;01mif\u001b[39;00m \u001b[38;5;129;01mnot\u001b[39;00m \u001b[38;5;28;43mself\u001b[39;49m\u001b[38;5;241;43m.\u001b[39;49m\u001b[43mclient\u001b[49m\u001b[38;5;241;43m.\u001b[39;49m\u001b[43mlibrary_exists\u001b[49m\u001b[43m(\u001b[49m\u001b[43mname_library\u001b[49m\u001b[43m)\u001b[49m:\n\u001b[1;32m     29\u001b[0m         \u001b[38;5;28;01mif\u001b[39;00m library_chunk_store:\n\u001b[1;32m     30\u001b[0m             \u001b[38;5;28mself\u001b[39m\u001b[38;5;241m.\u001b[39mclient\u001b[38;5;241m.\u001b[39minitialize_library(name_library, lib_type\u001b[38;5;241m=\u001b[39mCHUNK_STORE)\n",
      "File \u001b[0;32m/usr/local/lib/python3.8/site-packages/arctic/arctic.py:266\u001b[0m, in \u001b[0;36mArctic.library_exists\u001b[0;34m(self, library)\u001b[0m\n\u001b[1;32m    263\u001b[0m exists \u001b[38;5;241m=\u001b[39m \u001b[38;5;28;01mFalse\u001b[39;00m\n\u001b[1;32m    264\u001b[0m \u001b[38;5;28;01mtry\u001b[39;00m:\n\u001b[1;32m    265\u001b[0m     \u001b[38;5;66;03m# This forces auth errors, and to fall back to the slower \"list_collections\"\u001b[39;00m\n\u001b[0;32m--> 266\u001b[0m     \u001b[43mArcticLibraryBinding\u001b[49m\u001b[43m(\u001b[49m\u001b[38;5;28;43mself\u001b[39;49m\u001b[43m,\u001b[49m\u001b[43m \u001b[49m\u001b[43mlibrary\u001b[49m\u001b[43m)\u001b[49m\u001b[38;5;241m.\u001b[39mget_library_type()\n\u001b[1;32m    267\u001b[0m     \u001b[38;5;66;03m# This will obtain the library, if no exception thrown we have verified its existence\u001b[39;00m\n\u001b[1;32m    268\u001b[0m     \u001b[38;5;28mself\u001b[39m\u001b[38;5;241m.\u001b[39mget_library(library)\n",
      "File \u001b[0;32m/usr/local/lib/python3.8/site-packages/arctic/arctic.py:505\u001b[0m, in \u001b[0;36mArcticLibraryBinding.__init__\u001b[0;34m(self, arctic, library)\u001b[0m\n\u001b[1;32m    503\u001b[0m \u001b[38;5;28;01mdef\u001b[39;00m \u001b[38;5;21m__init__\u001b[39m(\u001b[38;5;28mself\u001b[39m, arctic, library):\n\u001b[1;32m    504\u001b[0m     \u001b[38;5;28mself\u001b[39m\u001b[38;5;241m.\u001b[39marctic \u001b[38;5;241m=\u001b[39m arctic\n\u001b[0;32m--> 505\u001b[0m     \u001b[38;5;28mself\u001b[39m\u001b[38;5;241m.\u001b[39m_curr_conn \u001b[38;5;241m=\u001b[39m \u001b[38;5;28;43mself\u001b[39;49m\u001b[38;5;241;43m.\u001b[39;49m\u001b[43marctic\u001b[49m\u001b[38;5;241;43m.\u001b[39;49m\u001b[43m_conn\u001b[49m\n\u001b[1;32m    506\u001b[0m     \u001b[38;5;28mself\u001b[39m\u001b[38;5;241m.\u001b[39m_lock \u001b[38;5;241m=\u001b[39m threading\u001b[38;5;241m.\u001b[39mRLock()\n\u001b[1;32m    507\u001b[0m     database_name, library \u001b[38;5;241m=\u001b[39m \u001b[38;5;28mself\u001b[39m\u001b[38;5;241m.\u001b[39m_parse_db_lib(library)\n",
      "File \u001b[0;32m/usr/local/lib/python3.8/site-packages/arctic/decorators.py:50\u001b[0m, in \u001b[0;36mmongo_retry.<locals>.f_retry\u001b[0;34m(*args, **kwargs)\u001b[0m\n\u001b[1;32m     48\u001b[0m \u001b[38;5;28;01mwhile\u001b[39;00m \u001b[38;5;28;01mTrue\u001b[39;00m:\n\u001b[1;32m     49\u001b[0m     \u001b[38;5;28;01mtry\u001b[39;00m:\n\u001b[0;32m---> 50\u001b[0m         \u001b[38;5;28;01mreturn\u001b[39;00m \u001b[43mf\u001b[49m\u001b[43m(\u001b[49m\u001b[38;5;241;43m*\u001b[39;49m\u001b[43margs\u001b[49m\u001b[43m,\u001b[49m\u001b[43m \u001b[49m\u001b[38;5;241;43m*\u001b[39;49m\u001b[38;5;241;43m*\u001b[39;49m\u001b[43mkwargs\u001b[49m\u001b[43m)\u001b[49m\n\u001b[1;32m     51\u001b[0m     \u001b[38;5;28;01mexcept\u001b[39;00m (DuplicateKeyError, ServerSelectionTimeoutError, BulkWriteError) \u001b[38;5;28;01mas\u001b[39;00m e:\n\u001b[1;32m     52\u001b[0m         \u001b[38;5;66;03m# Re-raise errors that won't go away.\u001b[39;00m\n\u001b[1;32m     53\u001b[0m         _handle_error(f, e, _retry_count, \u001b[38;5;241m*\u001b[39m\u001b[38;5;241m*\u001b[39m_get_host(args))\n",
      "File \u001b[0;32m/usr/local/lib/python3.8/site-packages/arctic/arctic.py:147\u001b[0m, in \u001b[0;36mArctic._conn\u001b[0;34m(self)\u001b[0m\n\u001b[1;32m    145\u001b[0m host \u001b[38;5;241m=\u001b[39m get_mongodb_uri(\u001b[38;5;28mself\u001b[39m\u001b[38;5;241m.\u001b[39mmongo_host)\n\u001b[1;32m    146\u001b[0m logger\u001b[38;5;241m.\u001b[39minfo(\u001b[38;5;124m\"\u001b[39m\u001b[38;5;124mConnecting to mongo: \u001b[39m\u001b[38;5;132;01m{0}\u001b[39;00m\u001b[38;5;124m (\u001b[39m\u001b[38;5;132;01m{1}\u001b[39;00m\u001b[38;5;124m)\u001b[39m\u001b[38;5;124m\"\u001b[39m\u001b[38;5;241m.\u001b[39mformat(\u001b[38;5;28mself\u001b[39m\u001b[38;5;241m.\u001b[39mmongo_host, host))\n\u001b[0;32m--> 147\u001b[0m \u001b[38;5;28mself\u001b[39m\u001b[38;5;241m.\u001b[39m__conn \u001b[38;5;241m=\u001b[39m \u001b[43mpymongo\u001b[49m\u001b[38;5;241;43m.\u001b[39;49m\u001b[43mMongoClient\u001b[49m\u001b[43m(\u001b[49m\u001b[43mhost\u001b[49m\u001b[38;5;241;43m=\u001b[39;49m\u001b[43mhost\u001b[49m\u001b[43m,\u001b[49m\n\u001b[1;32m    148\u001b[0m \u001b[43m                                  \u001b[49m\u001b[43mmaxPoolSize\u001b[49m\u001b[38;5;241;43m=\u001b[39;49m\u001b[38;5;28;43mself\u001b[39;49m\u001b[38;5;241;43m.\u001b[39;49m\u001b[43m_MAX_CONNS\u001b[49m\u001b[43m,\u001b[49m\n\u001b[1;32m    149\u001b[0m \u001b[43m                                  \u001b[49m\u001b[43msocketTimeoutMS\u001b[49m\u001b[38;5;241;43m=\u001b[39;49m\u001b[38;5;28;43mself\u001b[39;49m\u001b[38;5;241;43m.\u001b[39;49m\u001b[43m_socket_timeout\u001b[49m\u001b[43m,\u001b[49m\n\u001b[1;32m    150\u001b[0m \u001b[43m                                  \u001b[49m\u001b[43mconnectTimeoutMS\u001b[49m\u001b[38;5;241;43m=\u001b[39;49m\u001b[38;5;28;43mself\u001b[39;49m\u001b[38;5;241;43m.\u001b[39;49m\u001b[43m_connect_timeout\u001b[49m\u001b[43m,\u001b[49m\n\u001b[1;32m    151\u001b[0m \u001b[43m                                  \u001b[49m\u001b[43mserverSelectionTimeoutMS\u001b[49m\u001b[38;5;241;43m=\u001b[39;49m\u001b[38;5;28;43mself\u001b[39;49m\u001b[38;5;241;43m.\u001b[39;49m\u001b[43m_server_selection_timeout\u001b[49m\u001b[43m,\u001b[49m\n\u001b[1;32m    152\u001b[0m \u001b[43m                                  \u001b[49m\u001b[38;5;241;43m*\u001b[39;49m\u001b[38;5;241;43m*\u001b[39;49m\u001b[38;5;28;43mself\u001b[39;49m\u001b[38;5;241;43m.\u001b[39;49m\u001b[43m_pymongo_kwargs\u001b[49m\u001b[43m)\u001b[49m\n\u001b[1;32m    153\u001b[0m \u001b[38;5;28mself\u001b[39m\u001b[38;5;241m.\u001b[39m_adminDB \u001b[38;5;241m=\u001b[39m \u001b[38;5;28mself\u001b[39m\u001b[38;5;241m.\u001b[39m__conn\u001b[38;5;241m.\u001b[39madmin\n\u001b[1;32m    154\u001b[0m \u001b[38;5;28mself\u001b[39m\u001b[38;5;241m.\u001b[39m_cache \u001b[38;5;241m=\u001b[39m Cache(\u001b[38;5;28mself\u001b[39m\u001b[38;5;241m.\u001b[39m__conn)\n",
      "File \u001b[0;32m/usr/local/lib/python3.8/site-packages/pymongo/mongo_client.py:649\u001b[0m, in \u001b[0;36mMongoClient.__init__\u001b[0;34m(self, host, port, document_class, tz_aware, connect, type_registry, **kwargs)\u001b[0m\n\u001b[1;32m    647\u001b[0m         fqdn \u001b[38;5;241m=\u001b[39m res[\u001b[38;5;124m\"\u001b[39m\u001b[38;5;124mfqdn\u001b[39m\u001b[38;5;124m\"\u001b[39m]\n\u001b[1;32m    648\u001b[0m     \u001b[38;5;28;01melse\u001b[39;00m:\n\u001b[0;32m--> 649\u001b[0m         seeds\u001b[38;5;241m.\u001b[39mupdate(\u001b[43muri_parser\u001b[49m\u001b[38;5;241;43m.\u001b[39;49m\u001b[43msplit_hosts\u001b[49m\u001b[43m(\u001b[49m\u001b[43mentity\u001b[49m\u001b[43m,\u001b[49m\u001b[43m \u001b[49m\u001b[43mport\u001b[49m\u001b[43m)\u001b[49m)\n\u001b[1;32m    650\u001b[0m \u001b[38;5;28;01mif\u001b[39;00m \u001b[38;5;129;01mnot\u001b[39;00m seeds:\n\u001b[1;32m    651\u001b[0m     \u001b[38;5;28;01mraise\u001b[39;00m ConfigurationError(\u001b[38;5;124m\"\u001b[39m\u001b[38;5;124mneed to specify at least one host\u001b[39m\u001b[38;5;124m\"\u001b[39m)\n",
      "File \u001b[0;32m/usr/local/lib/python3.8/site-packages/pymongo/uri_parser.py:364\u001b[0m, in \u001b[0;36msplit_hosts\u001b[0;34m(hosts, default_port)\u001b[0m\n\u001b[1;32m    362\u001b[0m     \u001b[38;5;28;01mif\u001b[39;00m entity\u001b[38;5;241m.\u001b[39mendswith(\u001b[38;5;124m'\u001b[39m\u001b[38;5;124m.sock\u001b[39m\u001b[38;5;124m'\u001b[39m):\n\u001b[1;32m    363\u001b[0m         port \u001b[38;5;241m=\u001b[39m \u001b[38;5;28;01mNone\u001b[39;00m\n\u001b[0;32m--> 364\u001b[0m     nodes\u001b[38;5;241m.\u001b[39mappend(\u001b[43mparse_host\u001b[49m\u001b[43m(\u001b[49m\u001b[43mentity\u001b[49m\u001b[43m,\u001b[49m\u001b[43m \u001b[49m\u001b[43mport\u001b[49m\u001b[43m)\u001b[49m)\n\u001b[1;32m    365\u001b[0m \u001b[38;5;28;01mreturn\u001b[39;00m nodes\n",
      "File \u001b[0;32m/usr/local/lib/python3.8/site-packages/pymongo/uri_parser.py:118\u001b[0m, in \u001b[0;36mparse_host\u001b[0;34m(entity, default_port)\u001b[0m\n\u001b[1;32m    116\u001b[0m \u001b[38;5;28;01mif\u001b[39;00m \u001b[38;5;28misinstance\u001b[39m(port, string_type):\n\u001b[1;32m    117\u001b[0m     \u001b[38;5;28;01mif\u001b[39;00m \u001b[38;5;129;01mnot\u001b[39;00m port\u001b[38;5;241m.\u001b[39misdigit() \u001b[38;5;129;01mor\u001b[39;00m \u001b[38;5;28mint\u001b[39m(port) \u001b[38;5;241m>\u001b[39m \u001b[38;5;241m65535\u001b[39m \u001b[38;5;129;01mor\u001b[39;00m \u001b[38;5;28mint\u001b[39m(port) \u001b[38;5;241m<\u001b[39m\u001b[38;5;241m=\u001b[39m \u001b[38;5;241m0\u001b[39m:\n\u001b[0;32m--> 118\u001b[0m         \u001b[38;5;28;01mraise\u001b[39;00m \u001b[38;5;167;01mValueError\u001b[39;00m(\u001b[38;5;124m\"\u001b[39m\u001b[38;5;124mPort must be an integer between 0 and 65535: \u001b[39m\u001b[38;5;132;01m%s\u001b[39;00m\u001b[38;5;124m\"\u001b[39m\n\u001b[1;32m    119\u001b[0m                          \u001b[38;5;241m%\u001b[39m (port,))\n\u001b[1;32m    120\u001b[0m     port \u001b[38;5;241m=\u001b[39m \u001b[38;5;28mint\u001b[39m(port)\n\u001b[1;32m    122\u001b[0m \u001b[38;5;66;03m# Normalize hostname to lowercase, since DNS is case-insensitive:\u001b[39;00m\n\u001b[1;32m    123\u001b[0m \u001b[38;5;66;03m# http://tools.ietf.org/html/rfc4343\u001b[39;00m\n\u001b[1;32m    124\u001b[0m \u001b[38;5;66;03m# This prevents useless rediscovery if \"foo.com\" is in the seed list but\u001b[39;00m\n\u001b[1;32m    125\u001b[0m \u001b[38;5;66;03m# \"FOO.com\" is in the ismaster response.\u001b[39;00m\n",
      "\u001b[0;31mValueError\u001b[0m: Port must be an integer between 0 and 65535: None"
     ]
    }
   ],
   "source": [
    "from src.infrastructure.database_handler import Universe\n",
    "from src.application import conf\n",
    "from src.domain.models.trading.petition import Petition\n",
    "from src.domain.models.trading.order import Order\n",
    "import datetime as dt\n",
    "from src.infrastructure.brokerMQ import Emit_Events\n",
    "import time\n",
    "import math\n",
    "\n",
    "def round_decimals_down(number:float, decimals:int=2):\n",
    "    \"\"\"\n",
    "    Returns a value rounded down to a specific number of decimal places.\n",
    "    \"\"\"\n",
    "    if not isinstance(decimals, int):\n",
    "        raise TypeError(\"decimal places must be an integer\")\n",
    "    elif decimals < 0:\n",
    "        raise ValueError(\"decimal places has to be 0 or more\")\n",
    "    elif decimals == 0:\n",
    "        return math.floor(number)\n",
    "\n",
    "    factor = 10 ** decimals\n",
    "    return math.floor(number * factor) / factor\n",
    "\n",
    "def round_decimals_up(number:float, decimals:int=2):\n",
    "    \"\"\"\n",
    "    Returns a value rounded up to a specific number of decimal places.\n",
    "    \"\"\"\n",
    "    if not isinstance(decimals, int):\n",
    "        raise TypeError(\"decimal places must be an integer\")\n",
    "    elif decimals < 0:\n",
    "        raise ValueError(\"decimal places has to be 0 or more\")\n",
    "    elif decimals == 0:\n",
    "        return math.ceil(number)\n",
    "\n",
    "    factor = 10 ** decimals\n",
    "    return math.ceil(number * factor) / factor\n",
    "\n",
    "# Conection to the database\n",
    "store = Universe(host=conf.MONGO_HOST, port=conf.MONGO_PORT)\n",
    "lib_petitions = store.get_library('petitions')\n",
    "# Conection to broker mq\n",
    "config_brokermq = {'host': conf.RABBITMQ_HOST, 'port': conf.RABBITMQ_PORT, 'user': conf.RABBITMQ_USER,\n",
    "                   'password': conf.RABBITMQ_PASSWORD}\n",
    "emiter = Emit_Events(config=self.config_brokermq)\n",
    "\n",
    "def get_data_petition(name):\n",
    "    for i in range(10):\n",
    "        time.sleep(1)\n",
    "        # check if name in list_symbols\n",
    "        list_symbols = lib_petitions.list_symbols()\n",
    "        if name in list_symbols:\n",
    "            return lib_petitions.read(name).data\n",
    "        time.sleep(5)\n",
    "\n"
   ]
  },
  {
   "cell_type": "markdown",
   "metadata": {
    "pycharm": {
     "name": "#%% md\n"
    }
   },
   "source": [
    "## Analice Realtime positions from the portfolio VS Realtime position in Exchange\n",
    "It sends a petition msg to the portfolio service to get the realtime positions."
   ]
  },
  {
   "cell_type": "code",
   "execution_count": 12,
   "metadata": {
    "collapsed": false,
    "jupyter": {
     "outputs_hidden": false
    },
    "pycharm": {
     "name": "#%%\n"
    }
   },
   "outputs": [],
   "source": [
    "# Create the petition\n",
    "name_to_saving = f'positions_{dt.datetime.now().strftime(\"%Y%m%d%H%M%S\")}'\n",
    "function_to_run='get_saved_values_strategies_last' #get_saved_values_strategy  \n",
    "# name of portfolio which we want to know positions\n",
    "name_portfolio = 'PortfolioForex1'\n",
    "petition_pos = Petition(datetime=dt.datetime.now(), function_to_run=function_to_run,\n",
    "                               name_to_saving=name_to_saving, name_portfolio=name_portfolio)\n",
    "\n",
    "emiter.publish_event('petition', petition_pos)\n"
   ]
  },
  {
   "cell_type": "code",
   "execution_count": 16,
   "metadata": {
    "collapsed": false,
    "jupyter": {
     "outputs_hidden": false
    },
    "pycharm": {
     "name": "#%%\n"
    }
   },
   "outputs": [
    {
     "name": "stdout",
     "output_type": "stream",
     "text": [
      "Porfolio Potitions\n"
     ]
    },
    {
     "data": {
      "text/plain": [
       "{'BTC': 1, 'USDT': 0, 'ETH': 1}"
      ]
     },
     "execution_count": 16,
     "metadata": {},
     "output_type": "execute_result"
    }
   ],
   "source": [
    "# Get data Petition\n",
    "data_petition = get_data_petition(name_to_saving)\n",
    "## Agregate data_petition by ticker base\n",
    "agregate = {}\n",
    "tickers = []\n",
    "for _id in data_petition.keys():\n",
    "    p = data_petition[_id]\n",
    "    t = data_petition[_id]['ticker']\n",
    "    if t not in tickers:\n",
    "       tickers.append(t)\n",
    "    t1 = t.split('-')[0]\n",
    "    t2 = t.split('-')[1]\n",
    "    agregate.setdefault(t1,0)\n",
    "    agregate.setdefault(t2,0)\n",
    "    agregate[t1] += p['position']*p['quantity']\n",
    "    if p['position'] == 0:\n",
    "        agregate[t2] += abs((p['position'] -1 )*p['quantity']*p['close'])\n",
    "\n",
    "print('Porfolio Potitions')\n",
    "list_currency = [c.split('-')[0] for c in agregate.keys() ]\n",
    "agregate"
   ]
  },
  {
   "cell_type": "code",
   "execution_count": null,
   "metadata": {
    "collapsed": false,
    "jupyter": {
     "outputs_hidden": false
    },
    "pycharm": {
     "name": "#%%\n"
    }
   },
   "outputs": [],
   "source": [
    "# Get position in Broker or Exchange\n",
    "broker = 'kucoin'\n",
    "if broker in ['kucoin', 'binance']:\n",
    "    from src.infraestructure.crypto.exchange_handler import Trading\n",
    "else:\n",
    "    pass\n",
    "\n",
    "trading = Trading(exchange_or_broker=broker,\n",
    "                  config_brokermq=config_brokermq)\n",
    "_broker_pos =trading.get_accounts()\n",
    "\n",
    "broker_pos = {c['currency']:float(c['balance']) for c in _broker_pos if c['currency'] in list_currency}\n",
    "broker_pos"
   ]
  },
  {
   "cell_type": "code",
   "execution_count": 71,
   "metadata": {
    "pycharm": {
     "name": "#%%\n"
    }
   },
   "outputs": [
    {
     "name": "stdout",
     "output_type": "stream",
     "text": [
      "{'USDT': -193.6037, 'ETH': 0.1}\n"
     ]
    }
   ],
   "source": [
    "# Compute diference between broker and portfolio\n",
    "diference = {}\n",
    "for c in broker_pos.keys():\n",
    "    diference[c]  = agregate[c] - broker_pos[c]\n",
    "    if diference[c] > 0:\n",
    "        diference[c] = round_decimals_down(diference[c],4)\n",
    "    else:\n",
    "        diference[c] = round_decimals_up(diference[c],4)\n",
    "print(diference)"
   ]
  },
  {
   "cell_type": "code",
   "execution_count": 72,
   "metadata": {
    "pycharm": {
     "name": "#%%\n"
    }
   },
   "outputs": [],
   "source": [
    "# Create order to close diference\n",
    "n= 0\n",
    "for t in tickers:\n",
    "   d = diference[t.split('-')[0]]\n",
    "   if abs(d) > 0.01:\n",
    "       if d > 0:\n",
    "           action = 'buy'\n",
    "       else:\n",
    "           action = 'sell'\n",
    "       order_id_sender =f' {0}_{n}_{dt.datetime.utcnow().strftime(\"%Y%m%d%H%M%S\")}'\n",
    "       order = Order(datetime=dt.datetime.utcnow(),\n",
    "                            ticker=t, action=action,\n",
    "                            price=0, quantity=abs(d), type='market', sender_id=0,\n",
    "                            order_id_sender=order_id_sender)\n",
    "       emiter.publish_event('order', order)\n",
    "       n += 1\n",
    "\n"
   ]
  },
  {
   "cell_type": "code",
   "execution_count": null,
   "metadata": {
    "pycharm": {
     "name": "#%%\n"
    }
   },
   "outputs": [],
   "source": []
  }
 ],
 "metadata": {
  "kernelspec": {
   "display_name": "Python 3 (ipykernel)",
   "language": "python",
   "name": "python3"
  },
  "language_info": {
   "codemirror_mode": {
    "name": "ipython",
    "version": 3
   },
   "file_extension": ".py",
   "mimetype": "text/x-python",
   "name": "python",
   "nbconvert_exporter": "python",
   "pygments_lexer": "ipython3",
   "version": "3.8.15"
  }
 },
 "nbformat": 4,
 "nbformat_minor": 4
}
