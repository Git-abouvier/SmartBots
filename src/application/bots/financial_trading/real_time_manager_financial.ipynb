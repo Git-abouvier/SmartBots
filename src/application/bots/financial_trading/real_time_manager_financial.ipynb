{
 "cells": [
  {
   "cell_type": "markdown",
   "metadata": {
    "pycharm": {
     "name": "#%% md\n"
    }
   },
   "source": [
    "# Trading Manager for Financial\n",
    "\n",
    "This notebook allow to comunicate with the services running in real time. All the comunications it is with MQ messages."
   ]
  },
  {
   "cell_type": "code",
   "execution_count": 3,
   "metadata": {
    "pycharm": {
     "name": "#%%\n"
    }
   },
   "outputs": [],
   "source": [
    "from src.infrastructure.database_handler import Universe\n",
    "from src.application import conf\n",
    "from src.domain.models.trading.petition import Petition\n",
    "from src.domain.models.trading.order import Order\n",
    "import datetime as dt\n",
    "from src.infrastructure.brokerMQ import Emit_Events\n",
    "import time\n",
    "import math\n",
    "\n",
    "# Conection to the database\n",
    "store = Universe(host=conf.MONGO_HOST, port=conf.MONGO_PORT)\n",
    "lib_petitions = store.get_library('petitions')\n",
    "# Conection to broker mq\n",
    "config_brokermq = {'host': conf.RABBITMQ_HOST, 'port': conf.RABBITMQ_PORT, 'user': conf.RABBITMQ_USER,\n",
    "                   'password': conf.RABBITMQ_PASSWORD}\n",
    "emiter = Emit_Events(config=config_brokermq)\n",
    "\n",
    "def get_data_petition(name):\n",
    "    for i in range(10):\n",
    "        time.sleep(1)\n",
    "        # check if name in list_symbols\n",
    "        list_symbols = lib_petitions.list_symbols()\n",
    "        if name in list_symbols:\n",
    "            return lib_petitions.read(name).data\n",
    "        time.sleep(5)\n",
    "\n"
   ]
  },
  {
   "cell_type": "markdown",
   "metadata": {
    "pycharm": {
     "name": "#%% md\n"
    }
   },
   "source": [
    "## Analice Realtime positions from the portfolio VS Realtime position in Exchange\n",
    "It sends a petition msg to the portfolio service to get the realtime positions."
   ]
  },
  {
   "cell_type": "code",
   "execution_count": 9,
   "metadata": {
    "collapsed": false,
    "jupyter": {
     "outputs_hidden": false
    },
    "pycharm": {
     "name": "#%%\n"
    }
   },
   "outputs": [],
   "source": [
    "# Create the petition\n",
    "name_to_saving = f'positions_{dt.datetime.now().strftime(\"%Y%m%d%H%M%S\")}'\n",
    "# name of portfolio which we want to know positions\n",
    "name_portfolio = 'PortfolioForex1'\n",
    "function_to_run='get_saved_values_strategies_last' #get_saved_values_strategy  \n",
    "petition_pos = Petition(datetime=dt.datetime.now(), function_to_run=function_to_run,\n",
    "                               name_to_saving=name_to_saving, name_portfolio=name_portfolio)\n",
    "\n",
    "emiter.publish_event('petition', petition_pos)\n"
   ]
  },
  {
   "cell_type": "code",
   "execution_count": 10,
   "metadata": {
    "collapsed": false,
    "jupyter": {
     "outputs_hidden": false
    },
    "pycharm": {
     "name": "#%%\n"
    }
   },
   "outputs": [
    {
     "name": "stdout",
     "output_type": "stream",
     "text": [
      "Porfolio Potitions\n"
     ]
    },
    {
     "data": {
      "text/plain": [
       "{'USDSEK': 0.0, 'AUDNZD': -0.01, 'GBPUSD': -0.04, 'EURJPY': 0.0, 'EURNOK': 0.0}"
      ]
     },
     "execution_count": 10,
     "metadata": {},
     "output_type": "execute_result"
    }
   ],
   "source": [
    "# Get data Petition\n",
    "data_petition = get_data_petition(name_to_saving)\n",
    "\n",
    "## Agregate data_petition by ticker base\n",
    "agregate = {}\n",
    "tickers = []\n",
    "for _id in data_petition.keys():\n",
    "    p = data_petition[_id]\n",
    "    t = data_petition[_id]['ticker']\n",
    "    if t not in tickers:\n",
    "       tickers.append(t)\n",
    "    agregate.setdefault(t,0)\n",
    "    agregate[t] += p['position']*p['quantity']\n",
    "    agregate[t] = round(agregate[t], 2)\n",
    "\n",
    "print('Porfolio Potitions')\n",
    "list_currency = [c.split('-')[0] for c in agregate.keys() ]\n",
    "agregate"
   ]
  },
  {
   "cell_type": "code",
   "execution_count": 11,
   "metadata": {
    "collapsed": false,
    "jupyter": {
     "outputs_hidden": false
    },
    "pycharm": {
     "name": "#%%\n"
    }
   },
   "outputs": [
    {
     "name": "stdout",
     "output_type": "stream",
     "text": [
      "{'GBPUSD': -0.04, 'AUDNZD': -0.01}\n"
     ]
    }
   ],
   "source": [
    "# Get position in Broker or Exchange\n",
    "broker = 'darwinex'\n",
    "utc_now = dt.datetime.utcnow()\n",
    "if broker == 'darwinex':\n",
    "    _name_library = 'events_keeper'\n",
    "    name_library = f'{_name_library}_{utc_now.strftime(\"%Y%m%d\")}'\n",
    "    lib_keeper = store.get_library(name_library)\n",
    "    data = lib_keeper.read(f'{broker}_mt4_positions').data\n",
    "   \n",
    "else:\n",
    "    pass\n",
    "\n",
    "time_positions = data.datetime\n",
    "diff_minutes = abs((utc_now-time_positions).seconds / 60)\n",
    "if diff_minutes <1:\n",
    "    broker_pos = data.positions\n",
    "    print(broker_pos)\n",
    "else:\n",
    "    print('The saving positions is not updated')"
   ]
  },
  {
   "cell_type": "code",
   "execution_count": 12,
   "metadata": {
    "pycharm": {
     "name": "#%%\n"
    }
   },
   "outputs": [
    {
     "name": "stdout",
     "output_type": "stream",
     "text": [
      "{'USDSEK': 0.0, 'AUDNZD': 0.0, 'GBPUSD': 0.0, 'EURJPY': 0.0, 'EURNOK': 0.0}\n"
     ]
    }
   ],
   "source": [
    "# Compute diference between broker and portfolio\n",
    "diference = {}\n",
    "for c in agregate.keys():\n",
    "    if c not in broker_pos:\n",
    "        quantity_broker = 0\n",
    "    else:\n",
    "        quantity_broker = broker_pos[c]\n",
    "    diference[c]  = agregate[c] - quantity_broker\n",
    "    if diference[c] > 0:\n",
    "        diference[c] = round(diference[c],2)\n",
    "    else:\n",
    "        diference[c] = round(diference[c],2)\n",
    "print(diference)"
   ]
  },
  {
   "cell_type": "code",
   "execution_count": 8,
   "metadata": {
    "pycharm": {
     "name": "#%%\n"
    }
   },
   "outputs": [],
   "source": [
    "# Create order to close diference\n",
    "n= 0\n",
    "send = True  # by default is False\n",
    "for t in tickers:\n",
    "   d = diference[t.split('-')[0]]\n",
    "   if abs(d) >= 0.01:\n",
    "       if d > 0:\n",
    "           action = 'buy'\n",
    "       else:\n",
    "           action = 'sell'\n",
    "       order_id_sender =f' {0}_{n}_{dt.datetime.utcnow().strftime(\"%Y%m%d%H%M%S\")}'\n",
    "       order = Order(datetime=dt.datetime.utcnow(),\n",
    "                            ticker=t, action=action,\n",
    "                            price=0, quantity=abs(d), type='market', sender_id=0,\n",
    "                            order_id_sender=order_id_sender)\n",
    "       if send:\n",
    "           emiter.publish_event('financial_order', order)\n",
    "           n += 1\n",
    "\n"
   ]
  },
  {
   "cell_type": "code",
   "execution_count": null,
   "metadata": {
    "pycharm": {
     "name": "#%%\n"
    }
   },
   "outputs": [],
   "source": []
  },
  {
   "cell_type": "code",
   "execution_count": null,
   "metadata": {},
   "outputs": [],
   "source": []
  }
 ],
 "metadata": {
  "kernelspec": {
   "display_name": "Python 3 (ipykernel)",
   "language": "python",
   "name": "python3"
  },
  "language_info": {
   "codemirror_mode": {
    "name": "ipython",
    "version": 3
   },
   "file_extension": ".py",
   "mimetype": "text/x-python",
   "name": "python",
   "nbconvert_exporter": "python",
   "pygments_lexer": "ipython3",
   "version": "3.8.15"
  }
 },
 "nbformat": 4,
 "nbformat_minor": 4
}
