{
 "cells": [
  {
   "cell_type": "code",
   "execution_count": 1,
   "id": "a6e7da37",
   "metadata": {
    "pycharm": {
     "name": "#%%\n"
    }
   },
   "outputs": [
    {
     "name": "stderr",
     "output_type": "stream",
     "text": [
      "/usr/local/lib/python3.8/site-packages/arctic/store/_pandas_ndarray_store.py:8: FutureWarning: The Panel class is removed from pandas. Accessing it from the top-level namespace will also be removed in the next version\n",
      "  from pandas import Panel\n"
     ]
    }
   ],
   "source": [
    "from src.application.services.portfolio_constructor import Portfolio_Constructor\n",
    "from src.domain.services.stats.betting_statistics import BetsToEquity, drawdown, total_return, annual_return, equity_to_variations_month_year\n",
    "from src.application.bots.betting_trading.get_historical_data_betting import save_historical\n",
    "from src.application.bots.betting_trading.get_historical_data_betting import _get_historical_data_test_files_betfair as get_historical_data\n",
    "import datetime as dt\n",
    "import pandas as pd"
   ]
  },
  {
   "cell_type": "markdown",
   "id": "c00ffbed-f79a-4f97-8507-b6a65623202b",
   "metadata": {},
   "source": [
    "## 1) Download Historical Data from test data"
   ]
  },
  {
   "cell_type": "code",
   "execution_count": 2,
   "id": "1fa24fc2-e1c2-4fca-9d56-4e4ba79b40d8",
   "metadata": {},
   "outputs": [],
   "source": [
    "download_data = False # True for downloading\n",
    "if download_data:\n",
    "    provider = 'betfair'\n",
    "    data = get_historical_data()\n",
    "    save_historical(data, name_library=f'{provider}_historical')\n",
    "    print(f'* Historical data for {provider} saved')"
   ]
  },
  {
   "cell_type": "markdown",
   "id": "7d968366",
   "metadata": {
    "pycharm": {
     "name": "#%% md\n"
    }
   },
   "source": [
    "BACKTESTING A BETTING STRATEGY"
   ]
  },
  {
   "cell_type": "markdown",
   "id": "2aede556",
   "metadata": {
    "pycharm": {
     "name": "#%% md\n"
    }
   },
   "source": [
    "2) Backtesting"
   ]
  },
  {
   "cell_type": "code",
   "execution_count": 3,
   "id": "d9b8576d",
   "metadata": {
    "pycharm": {
     "name": "#%%\n"
    }
   },
   "outputs": [],
   "source": [
    "# SETTING\n",
    "\n",
    "provider = 'betfair'\n",
    "start_date = dt.datetime(2022,1,1) # Start date for backtesting\n",
    "end_date = dt.datetime(2023, 1, 1)\n",
    "\n",
    "strategy1 = {'id': 1, # unique id for strategy to run\n",
    "             'strategy': 'Basic_Strategy', # strategy name, create in smartbots/betting/strategies\n",
    "             'params': {'ticker': 'over/under 2.5 goals',\n",
    "             'selection': 'over 2.5 goals',\n",
    "             'action': 'back',\n",
    "             'quantity': 2,\n",
    "             'init_odd':1.5,\n",
    "             'end_odd': 1.7,\n",
    "             'init_time':10,\n",
    "             'end_time': 30,\n",
    "             'diff_odds': 0.03}}\n",
    "\n",
    "\n",
    "conf_portfolio = {'Name': 'PortfolioBetting1',\n",
    "                  'Data_Sources': \n",
    "                  [{'ticker': 'over/under 2.5 goals',\n",
    "                   'event_type': 'odds',\n",
    "                   'historical_source': 'mongoDB',\n",
    "                   'historical_library': f'{provider}_files_historical'}],\n",
    "                   'Strategies': \n",
    "                    [strategy1]}"
   ]
  },
  {
   "cell_type": "code",
   "execution_count": 4,
   "id": "45049080",
   "metadata": {
    "pycharm": {
     "name": "#%%\n"
    }
   },
   "outputs": [
    {
     "name": "stdout",
     "output_type": "stream",
     "text": [
      "Generating Backtesting....you need to wait\n",
      "CPU times: user 489 ms, sys: 15.1 ms, total: 504 ms\n",
      "Wall time: 527 ms\n"
     ]
    }
   ],
   "source": [
    "%%time\n",
    "portfolio = Portfolio_Constructor(conf_portfolio, run_real=False, asset_type='betting',\n",
    "                                  send_orders_to_broker=False, start_date=start_date, end_date=end_date)\n",
    "print('Generating Backtesting....you need to wait')\n",
    "portfolio.run_simulation() # backtest \n",
    "bets = portfolio.bets\n",
    "result = portfolio.bets_result"
   ]
  },
  {
   "cell_type": "code",
   "execution_count": 5,
   "id": "ef39ead4",
   "metadata": {
    "pycharm": {
     "name": "#%%\n"
    }
   },
   "outputs": [
    {
     "name": "stdout",
     "output_type": "stream",
     "text": [
      "{'max_draw': 0.0, 'max_draw_dur': 0.0, 'annual_return': 11.923, 'total_return': 0.06, 'calmar': inf, 'bets': 2, 'average_oods': 1.6349999999999998, 'probability_odds': 61.16207951070337, 'reliability': 100.0}\n"
     ]
    }
   ],
   "source": [
    "# BETTING STATS\n",
    "\n",
    "bets_to_equity = BetsToEquity(bets, result, capital_init=2000, commission=0.02)\n",
    "df_equity = pd.DataFrame({'equity': bets_to_equity.equity, 'datetime': bets_to_equity.datetime})\n",
    "df_equity['datetime'] = df_equity['datetime'].dt.date\n",
    "# convert to datetime\n",
    "df_equity['datetime'] = pd.to_datetime(df_equity['datetime'])\n",
    "# get daily equity\n",
    "df_equity = df_equity.drop_duplicates(subset='datetime', keep='last')\n",
    "# datetime to index\n",
    "df_equity.index = df_equity['datetime']\n",
    "# get draw down\n",
    "draw = drawdown(df_equity.index, df_equity['equity'])\n",
    "\n",
    "statistics = {}\n",
    "statistics['max_draw'] = round(max(draw['draw_down']) * 100, 3)\n",
    "statistics['max_draw_dur'] = max(draw['drawdowndur'])\n",
    "statistics['annual_return'] = round(annual_return(df_equity['equity'], difference_prices=False), 3)\n",
    "statistics['total_return'] = round(total_return(df_equity['equity']), 2)\n",
    "statistics['calmar'] = round(statistics['annual_return'] / statistics['max_draw'], 3)\n",
    "statistics['bets'] = bets_to_equity.success + bets_to_equity.failed\n",
    "statistics['average_oods'] = bets_to_equity.sum_odds / statistics['bets']\n",
    "statistics['probability_odds'] = 1 / statistics['average_oods'] * 100\n",
    "statistics['reliability'] = round(bets_to_equity.success / statistics['bets'] * 100, 3)\n",
    "\n",
    "print(statistics)\n"
   ]
  },
  {
   "cell_type": "code",
   "execution_count": 6,
   "id": "3aa713d5",
   "metadata": {
    "pycharm": {
     "name": "#%%\n"
    }
   },
   "outputs": [
    {
     "data": {
      "text/plain": [
       "datetime\n",
       "2022-08-31    0.061741\n",
       "Freq: -1M, Name: equity, dtype: float64"
      ]
     },
     "execution_count": 6,
     "metadata": {},
     "output_type": "execute_result"
    }
   ],
   "source": [
    "# GET MONTH VARIATIONS\n",
    "equity_to_variations_month_year(df_equity['equity'], _type='M')"
   ]
  },
  {
   "cell_type": "code",
   "execution_count": 7,
   "id": "ad17eece",
   "metadata": {
    "pycharm": {
     "name": "#%%\n"
    }
   },
   "outputs": [
    {
     "data": {
      "text/html": [
       "<div>\n",
       "<style scoped>\n",
       "    .dataframe tbody tr th:only-of-type {\n",
       "        vertical-align: middle;\n",
       "    }\n",
       "\n",
       "    .dataframe tbody tr th {\n",
       "        vertical-align: top;\n",
       "    }\n",
       "\n",
       "    .dataframe thead th {\n",
       "        text-align: right;\n",
       "    }\n",
       "</style>\n",
       "<table border=\"1\" class=\"dataframe\">\n",
       "  <thead>\n",
       "    <tr style=\"text-align: right;\">\n",
       "      <th></th>\n",
       "      <th>equity</th>\n",
       "      <th>datetime</th>\n",
       "    </tr>\n",
       "    <tr>\n",
       "      <th>datetime</th>\n",
       "      <th></th>\n",
       "      <th></th>\n",
       "    </tr>\n",
       "  </thead>\n",
       "  <tbody>\n",
       "    <tr>\n",
       "      <th>2022-08-07</th>\n",
       "      <td>2001.2544</td>\n",
       "      <td>2022-08-07</td>\n",
       "    </tr>\n",
       "    <tr>\n",
       "      <th>2022-08-08</th>\n",
       "      <td>2002.4900</td>\n",
       "      <td>2022-08-08</td>\n",
       "    </tr>\n",
       "  </tbody>\n",
       "</table>\n",
       "</div>"
      ],
      "text/plain": [
       "               equity   datetime\n",
       "datetime                        \n",
       "2022-08-07  2001.2544 2022-08-07\n",
       "2022-08-08  2002.4900 2022-08-08"
      ]
     },
     "execution_count": 7,
     "metadata": {},
     "output_type": "execute_result"
    },
    {
     "data": {
      "image/png": "[encoded data removed]",
      "text/plain": [
       "<Figure size 640x480 with 1 Axes>"
      ]
     },
     "metadata": {},
     "output_type": "display_data"
    }
   ],
   "source": [
    "# VISUALIZE EQUITY\n",
    "df_equity['equity'].plot()\n",
    "df_equity"
   ]
  },
  {
   "cell_type": "code",
   "execution_count": null,
   "id": "1583cd07",
   "metadata": {
    "pycharm": {
     "name": "#%%\n"
    }
   },
   "outputs": [],
   "source": []
  }
 ],
 "metadata": {
  "kernelspec": {
   "display_name": "Python 3 (ipykernel)",
   "language": "python",
   "name": "python3"
  },
  "language_info": {
   "codemirror_mode": {
    "name": "ipython",
    "version": 3
   },
   "file_extension": ".py",
   "mimetype": "text/x-python",
   "name": "python",
   "nbconvert_exporter": "python",
   "pygments_lexer": "ipython3",
   "version": "3.8.15"
  }
 },
 "nbformat": 4,
 "nbformat_minor": 5
}
