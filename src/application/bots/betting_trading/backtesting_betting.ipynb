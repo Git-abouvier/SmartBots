{
 "cells": [
  {
   "cell_type": "code",
   "execution_count": 1,
   "id": "4cf88783-ce00-4971-8a0c-078095776e35",
   "metadata": {
    "pycharm": {
     "name": "#%%\n"
    }
   },
   "outputs": [
    {
     "name": "stderr",
     "output_type": "stream",
     "text": [
      "/usr/local/lib/python3.8/site-packages/arctic/store/_pandas_ndarray_store.py:8: FutureWarning: The Panel class is removed from pandas. Accessing it from the top-level namespace will also be removed in the next version\n",
      "  from pandas import Panel\n"
     ]
    }
   ],
   "source": [
    "from src.application.services.portfolio_constructor import Portfolio_Constructor\n",
    "from src.domain.stats.betting_statistics import BetsToEquity, drawdown, total_return, annual_return, equity_to_variations_month_year\n",
    "import datetime as dt\n",
    "import pandas as pd"
   ]
  },
  {
   "cell_type": "markdown",
   "id": "d03259ec-c257-4f19-a664-993e10458078",
   "metadata": {
    "pycharm": {
     "name": "#%% md\n"
    }
   },
   "source": [
    "BACKTESTING A BETTING STRATEGY"
   ]
  },
  {
   "cell_type": "markdown",
   "id": "04710282-ee63-43dd-9d84-951432ba514a",
   "metadata": {
    "pycharm": {
     "name": "#%% md\n"
    }
   },
   "source": [
    "2) Backtesting"
   ]
  },
  {
   "cell_type": "code",
   "execution_count": 2,
   "id": "2772ae83-be8a-441b-a32d-59d5b0c60ea3",
   "metadata": {
    "pycharm": {
     "name": "#%%\n"
    }
   },
   "outputs": [],
   "source": [
    "# SETTING\n",
    "\n",
    "provider = 'betfair'\n",
    "start_date = dt.datetime(2022,1,1) # Start date for backtesting\n",
    "end_date = dt.datetime(2023, 1, 1)\n",
    "\n",
    "strategy1 = {'id': 1, # unique id for strategy to run\n",
    "             'strategy': 'Basic_Strategy', # strategy name, create in smartbots/betting/strategies\n",
    "             'params': {'ticker': 'over/under 2.5 goals',\n",
    "             'selection': 'over 2.5 goals',\n",
    "             'action': 'back',\n",
    "             'quantity': 2,\n",
    "             'init_odd':1.5,\n",
    "             'end_odd': 1.7,\n",
    "             'init_time':10,\n",
    "             'end_time': 30,\n",
    "             'diff_odds': 0.03}}\n",
    "\n",
    "\n",
    "conf_portfolio = {'Name': 'PortfolioBetting1',\n",
    "                  'Data_Sources': \n",
    "                  [{'ticker': 'over/under 2.5 goals',\n",
    "                   'event_type': 'odds',\n",
    "                   'historical_source': 'mongoDB',\n",
    "                   'historical_library': f'{provider}_files_historical'}],\n",
    "                   'Strategies': \n",
    "                    [strategy1]}"
   ]
  },
  {
   "cell_type": "code",
   "execution_count": 6,
   "id": "adbcbc7f-649b-4294-a286-09c5f1c0e017",
   "metadata": {
    "pycharm": {
     "name": "#%%\n"
    }
   },
   "outputs": [
    {
     "name": "stdout",
     "output_type": "stream",
     "text": [
      "Generating Backtesting....you need to wait\n",
      "Unexpected exception formatting exception. Falling back to standard exception\n"
     ]
    },
    {
     "name": "stderr",
     "output_type": "stream",
     "text": [
      "Traceback (most recent call last):\n",
      "  File \"/usr/local/lib/python3.8/site-packages/IPython/core/magics/execution.py\", line 1316, in time\n",
      "    exec(code, glob, local_ns)\n",
      "  File \"<timed exec>\", line 4, in <module>\n",
      "  File \"/app/smartbots/engine/portfolio_constructor.py\", line 110, in run_simulation\n",
      "  File \"/app/smartbots/engine/data_reader.py\", line 117, in load_tickers_and_create_events_betting\n",
      "    data = lib.read(unique).data\n",
      "  File \"/usr/local/lib/python3.8/site-packages/arctic/store/version_store.py\", line 356, in read\n",
      "    return self._do_read(symbol, _version, from_version,\n",
      "  File \"/usr/local/lib/python3.8/site-packages/arctic/store/version_store.py\", line 441, in _do_read\n",
      "    data = handler.read(self._arctic_lib, version, symbol, from_version=from_version, **kwargs)\n",
      "  File \"/usr/local/lib/python3.8/site-packages/arctic/store/_pickle_store.py\", line 62, in read\n",
      "    return pickle_compat_load(io.BytesIO(data))\n",
      "  File \"/usr/local/lib/python3.8/site-packages/pandas/compat/pickle_compat.py\", line 241, in load\n",
      "    return up.load()\n",
      "  File \"/usr/local/lib/python3.8/pickle.py\", line 1208, in load\n",
      "    key = read(1)\n",
      "  File \"/usr/local/lib/python3.8/pickle.py\", line 288, in read\n",
      "    if self.current_frame:\n",
      "KeyboardInterrupt\n",
      "\n",
      "During handling of the above exception, another exception occurred:\n",
      "\n",
      "Traceback (most recent call last):\n",
      "  File \"/usr/local/lib/python3.8/site-packages/IPython/core/interactiveshell.py\", line 1993, in showtraceback\n",
      "    stb = self.InteractiveTB.structured_traceback(\n",
      "  File \"/usr/local/lib/python3.8/site-packages/IPython/core/ultratb.py\", line 1118, in structured_traceback\n",
      "    return FormattedTB.structured_traceback(\n",
      "  File \"/usr/local/lib/python3.8/site-packages/IPython/core/ultratb.py\", line 1012, in structured_traceback\n",
      "    return VerboseTB.structured_traceback(\n",
      "  File \"/usr/local/lib/python3.8/site-packages/IPython/core/ultratb.py\", line 865, in structured_traceback\n",
      "    formatted_exception = self.format_exception_as_a_whole(etype, evalue, etb, number_of_lines_of_context,\n",
      "  File \"/usr/local/lib/python3.8/site-packages/IPython/core/ultratb.py\", line 818, in format_exception_as_a_whole\n",
      "    frames.append(self.format_record(r))\n",
      "  File \"/usr/local/lib/python3.8/site-packages/IPython/core/ultratb.py\", line 736, in format_record\n",
      "    result += ''.join(_format_traceback_lines(frame_info.lines, Colors, self.has_colors, lvals))\n",
      "  File \"/usr/local/lib/python3.8/site-packages/stack_data/utils.py\", line 145, in cached_property_wrapper\n",
      "    value = obj.__dict__[self.func.__name__] = self.func(obj)\n",
      "  File \"/usr/local/lib/python3.8/site-packages/stack_data/core.py\", line 734, in lines\n",
      "    pieces = self.included_pieces\n",
      "  File \"/usr/local/lib/python3.8/site-packages/stack_data/utils.py\", line 145, in cached_property_wrapper\n",
      "    value = obj.__dict__[self.func.__name__] = self.func(obj)\n",
      "  File \"/usr/local/lib/python3.8/site-packages/stack_data/core.py\", line 681, in included_pieces\n",
      "    pos = scope_pieces.index(self.executing_piece)\n",
      "  File \"/usr/local/lib/python3.8/site-packages/stack_data/utils.py\", line 145, in cached_property_wrapper\n",
      "    value = obj.__dict__[self.func.__name__] = self.func(obj)\n",
      "  File \"/usr/local/lib/python3.8/site-packages/stack_data/core.py\", line 660, in executing_piece\n",
      "    return only(\n",
      "  File \"/usr/local/lib/python3.8/site-packages/executing/executing.py\", line 164, in only\n",
      "    raise NotOneValueFound('Expected one value, found 0')\n",
      "executing.executing.NotOneValueFound: Expected one value, found 0\n"
     ]
    }
   ],
   "source": [
    "%%time\n",
    "portfolio = Portfolio_Constructor(conf_portfolio, run_real=False, asset_type='betting',\n",
    "                                  send_orders_to_broker=False, start_date=start_date, end_date=end_date)\n",
    "print('Generating Backtesting....you need to wait')\n",
    "portfolio.run_simulation() # backtest \n",
    "bets = portfolio.bets\n",
    "result = portfolio.bets_result"
   ]
  },
  {
   "cell_type": "code",
   "execution_count": 8,
   "id": "08d605d3-5374-4212-bfc5-c63722b4ccbf",
   "metadata": {
    "pycharm": {
     "name": "#%%\n"
    }
   },
   "outputs": [
    {
     "name": "stdout",
     "output_type": "stream",
     "text": [
      "{'max_draw': 0.622, 'max_draw_dur': 1.0, 'annual_return': 23.951, 'total_return': 0.29, 'calmar': 38.506, 'bets': 145, 'average_oods': 1.5638620689655178, 'probability_odds': 63.94425824660431, 'reliability': 66.207}\n"
     ]
    }
   ],
   "source": [
    "# BETTING STATS\n",
    "\n",
    "bets_to_equity = BetsToEquity(bets, result, capital_init=2000, commission=0.02)\n",
    "df_equity = pd.DataFrame({'equity': bets_to_equity.equity, 'datetime': bets_to_equity.datetime})\n",
    "df_equity['datetime'] = df_equity['datetime'].dt.date\n",
    "# convert to datetime\n",
    "df_equity['datetime'] = pd.to_datetime(df_equity['datetime'])\n",
    "# get daily equity\n",
    "df_equity = df_equity.drop_duplicates(subset='datetime', keep='last')\n",
    "# datetime to index\n",
    "df_equity.index = df_equity['datetime']\n",
    "# get draw down\n",
    "draw = drawdown(df_equity.index, df_equity['equity'])\n",
    "\n",
    "statistics = {}\n",
    "statistics['max_draw'] = round(max(draw['draw_down']) * 100, 3)\n",
    "statistics['max_draw_dur'] = max(draw['drawdowndur'])\n",
    "statistics['annual_return'] = round(annual_return(df_equity['equity'], difference_prices=False), 3)\n",
    "statistics['total_return'] = round(total_return(df_equity['equity']), 2)\n",
    "statistics['calmar'] = round(statistics['annual_return'] / statistics['max_draw'], 3)\n",
    "statistics['bets'] = bets_to_equity.success + bets_to_equity.failed\n",
    "statistics['average_oods'] = bets_to_equity.sum_odds / statistics['bets']\n",
    "statistics['probability_odds'] = 1 / statistics['average_oods'] * 100\n",
    "statistics['reliability'] = round(bets_to_equity.success / statistics['bets'] * 100, 3)\n",
    "\n",
    "print(statistics)\n"
   ]
  },
  {
   "cell_type": "code",
   "execution_count": 5,
   "id": "89716fe6-b03e-4eb1-a8e9-82c65a99ec17",
   "metadata": {
    "pycharm": {
     "name": "#%%\n"
    }
   },
   "outputs": [
    {
     "data": {
      "text/plain": [
       "datetime\n",
       "2022-09-30    0.089686\n",
       "Freq: -1M, Name: equity, dtype: float64"
      ]
     },
     "execution_count": 5,
     "metadata": {},
     "output_type": "execute_result"
    }
   ],
   "source": [
    "# GET MONTH VARIATIONS\n",
    "equity_to_variations_month_year(df_equity['equity'], _type='M')"
   ]
  },
  {
   "cell_type": "code",
   "execution_count": 9,
   "id": "82395078-cbec-4864-b994-2b0c41c3d5e5",
   "metadata": {
    "pycharm": {
     "name": "#%%\n"
    }
   },
   "outputs": [
    {
     "data": {
      "text/html": [
       "<div>\n",
       "<style scoped>\n",
       "    .dataframe tbody tr th:only-of-type {\n",
       "        vertical-align: middle;\n",
       "    }\n",
       "\n",
       "    .dataframe tbody tr th {\n",
       "        vertical-align: top;\n",
       "    }\n",
       "\n",
       "    .dataframe thead th {\n",
       "        text-align: right;\n",
       "    }\n",
       "</style>\n",
       "<table border=\"1\" class=\"dataframe\">\n",
       "  <thead>\n",
       "    <tr style=\"text-align: right;\">\n",
       "      <th></th>\n",
       "      <th>equity</th>\n",
       "      <th>datetime</th>\n",
       "    </tr>\n",
       "    <tr>\n",
       "      <th>datetime</th>\n",
       "      <th></th>\n",
       "      <th></th>\n",
       "    </tr>\n",
       "  </thead>\n",
       "  <tbody>\n",
       "    <tr>\n",
       "      <th>2022-09-07</th>\n",
       "      <td>2001.2152</td>\n",
       "      <td>2022-09-07</td>\n",
       "    </tr>\n",
       "    <tr>\n",
       "      <th>2022-09-08</th>\n",
       "      <td>1995.8300</td>\n",
       "      <td>2022-09-08</td>\n",
       "    </tr>\n",
       "    <tr>\n",
       "      <th>2022-09-09</th>\n",
       "      <td>1983.4100</td>\n",
       "      <td>2022-09-09</td>\n",
       "    </tr>\n",
       "    <tr>\n",
       "      <th>2022-09-10</th>\n",
       "      <td>1997.2900</td>\n",
       "      <td>2022-09-10</td>\n",
       "    </tr>\n",
       "    <tr>\n",
       "      <th>2022-09-11</th>\n",
       "      <td>2007.1100</td>\n",
       "      <td>2022-09-11</td>\n",
       "    </tr>\n",
       "  </tbody>\n",
       "</table>\n",
       "</div>"
      ],
      "text/plain": [
       "               equity   datetime\n",
       "datetime                        \n",
       "2022-09-07  2001.2152 2022-09-07\n",
       "2022-09-08  1995.8300 2022-09-08\n",
       "2022-09-09  1983.4100 2022-09-09\n",
       "2022-09-10  1997.2900 2022-09-10\n",
       "2022-09-11  2007.1100 2022-09-11"
      ]
     },
     "execution_count": 9,
     "metadata": {},
     "output_type": "execute_result"
    },
    {
     "data": {
      "image/png": "[encoded data removed]",
      "text/plain": [
       "<Figure size 640x480 with 1 Axes>"
      ]
     },
     "metadata": {},
     "output_type": "display_data"
    }
   ],
   "source": [
    "# VISUALIZE EQUITY\n",
    "df_equity['equity'].plot()\n",
    "df_equity"
   ]
  },
  {
   "cell_type": "code",
   "execution_count": null,
   "id": "9f573c80-36a8-4481-b0ba-7c7d8eea560d",
   "metadata": {
    "pycharm": {
     "name": "#%%\n"
    }
   },
   "outputs": [],
   "source": []
  }
 ],
 "metadata": {
  "kernelspec": {
   "display_name": "Python 3 (ipykernel)",
   "language": "python",
   "name": "python3"
  },
  "language_info": {
   "codemirror_mode": {
    "name": "ipython",
    "version": 3
   },
   "file_extension": ".py",
   "mimetype": "text/x-python",
   "name": "python",
   "nbconvert_exporter": "python",
   "pygments_lexer": "ipython3",
   "version": "3.8.15"
  }
 },
 "nbformat": 4,
 "nbformat_minor": 5
}
