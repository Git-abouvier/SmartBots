{
 "cells": [
  {
   "cell_type": "markdown",
   "metadata": {
    "pycharm": {
     "name": "#%% md\n"
    }
   },
   "source": [
    "# Trading Manager for Crypto\n",
    "\n",
    "This notebook allow to comunicate with the services running in real time. All the comunications it is with MQ messages."
   ]
  },
  {
   "cell_type": "code",
   "execution_count": 1,
   "metadata": {
    "pycharm": {
     "name": "#%%\n"
    }
   },
   "outputs": [
    {
     "name": "stderr",
     "output_type": "stream",
     "text": [
      "C:\\Users\\jacar\\OneDrive\\Escritorio\\SmartBots\\venv\\lib\\site-packages\\arctic\\store\\_pandas_ndarray_store.py:8: FutureWarning: The Panel class is removed from pandas. Accessing it from the top-level namespace will also be removed in the next version\n",
      "  from pandas import Panel\n"
     ]
    }
   ],
   "source": [
    "from smartbots.database_handler import Universe\n",
    "from smartbots import conf\n",
    "from smartbots import events\n",
    "import datetime as dt\n",
    "from smartbots.brokerMQ import Emit_Events\n",
    "import time\n",
    "\n",
    "# Conection to the database\n",
    "store = Universe()\n",
    "lib_petitions = store.get_library('petitions')\n",
    "# Conection to broker mq\n",
    "emiter = Emit_Events()\n",
    "\n",
    "def get_data_petition(name):\n",
    "    for i in range(10):\n",
    "        time.sleep(1)\n",
    "        # check if name in list_symbols\n",
    "        list_symbols = lib_petitions.list_symbols()\n",
    "        if name in list_symbols:\n",
    "            return lib_petitions.read(name).data\n",
    "        time.sleep(5)\n",
    "\n"
   ]
  },
  {
   "cell_type": "markdown",
   "metadata": {
    "pycharm": {
     "name": "#%% md\n"
    }
   },
   "source": [
    "## Analice Realtime positions from the portfolio VS Realtime position in Exchange\n",
    "It sends a petition msg to the portfolio service to get the realtime positions."
   ]
  },
  {
   "cell_type": "code",
   "execution_count": 60,
   "metadata": {
    "pycharm": {
     "name": "#%%\n"
    }
   },
   "outputs": [],
   "source": [
    "# Create the petition\n",
    "name_to_saving = f'positions_{dt.datetime.now().strftime(\"%Y%m%d%H%M%S\")}'\n",
    "petition_pos = events.Petition(datetime=dt.datetime.now(), function_to_run='get_saved_values_strategies_last',\n",
    "                               name_to_saving=name_to_saving)\n",
    "\n",
    "emiter.publish_event('petition', petition_pos)\n"
   ]
  },
  {
   "cell_type": "code",
   "execution_count": 61,
   "outputs": [
    {
     "name": "stdout",
     "output_type": "stream",
     "text": [
      "Porfolio Potitions\n"
     ]
    },
    {
     "data": {
      "text/plain": "{'ETH': 0.2, 'USDT': 0}"
     },
     "execution_count": 61,
     "metadata": {},
     "output_type": "execute_result"
    }
   ],
   "source": [
    "# Get data Petition\n",
    "data_petition = get_data_petition(name_to_saving)\n",
    "## Agregate data_petition by ticker base\n",
    "agregate = {}\n",
    "tickers = []\n",
    "for _id in data_petition.keys():\n",
    "    p = data_petition[_id]\n",
    "    t = data_petition[_id]['ticker']\n",
    "    if t not in tickers:\n",
    "       tickers.append(t)\n",
    "    t1 = t.split('-')[0]\n",
    "    t2 = t.split('-')[1]\n",
    "    agregate.setdefault(t1,0)\n",
    "    agregate.setdefault(t2,0)\n",
    "    agregate[t1] += p['position']*p['quantity']\n",
    "    if p['position'] == 0:\n",
    "        agregate[t2] += abs((p['position'] -1 )*p['quantity']*p['close'])\n",
    "\n",
    "print('Porfolio Potitions')\n",
    "list_currency = [c.split('-')[0] for c in agregate.keys() ]\n",
    "agregate\n"
   ],
   "metadata": {
    "collapsed": false,
    "pycharm": {
     "name": "#%%\n"
    }
   }
  },
  {
   "cell_type": "code",
   "execution_count": 70,
   "outputs": [
    {
     "data": {
      "text/plain": "{'USDT': 193.60370911, 'ETH': 0.10002115}"
     },
     "execution_count": 70,
     "metadata": {},
     "output_type": "execute_result"
    }
   ],
   "source": [
    "# Get position in Broker or Exchange\n",
    "broker = 'Kucoin'\n",
    "\n",
    "if broker == 'Kucoin':\n",
    "    from smartbots.crypto.kucoin_model import Trading\n",
    "else:\n",
    "    pass\n",
    "\n",
    "trading = Trading()\n",
    "_broker_pos =trading.get_account()\n",
    "\n",
    "broker_pos = {c['currency']:float(c['balance']) for c in _broker_pos if c['currency'] in list_currency}\n",
    "broker_pos"
   ],
   "metadata": {
    "collapsed": false,
    "pycharm": {
     "name": "#%%\n"
    }
   }
  },
  {
   "cell_type": "code",
   "execution_count": 71,
   "outputs": [
    {
     "name": "stdout",
     "output_type": "stream",
     "text": [
      "{'USDT': -193.6037, 'ETH': 0.1}\n"
     ]
    }
   ],
   "source": [
    "# Compute diference between broker and portfolio\n",
    "diference = {}\n",
    "for c in broker_pos.keys():\n",
    "    diference[c] =  round(agregate[c] - broker_pos[c],4)\n",
    "print(diference)"
   ],
   "metadata": {
    "collapsed": false,
    "pycharm": {
     "name": "#%%\n"
    }
   }
  },
  {
   "cell_type": "code",
   "execution_count": 72,
   "metadata": {
    "pycharm": {
     "name": "#%%\n"
    }
   },
   "outputs": [],
   "source": [
    "# Create order to close diference\n",
    "n= 0\n",
    "for t in tickers:\n",
    "   d = diference[t.split('-')[0]]\n",
    "   if abs(d) > 0.01:\n",
    "       if d > 0:\n",
    "           action = 'buy'\n",
    "       else:\n",
    "           action = 'sell'\n",
    "       order_id_sender =f' {0}_{n}_{dt.datetime.utcnow().strftime(\"%Y%m%d%H%M%S\")}'\n",
    "       order = events.Order(datetime=dt.datetime.utcnow(),\n",
    "                            ticker=t, action=action,\n",
    "                            price=0, quantity=abs(d), type='market', sender_id=0,\n",
    "                            order_id_sender=order_id_sender)\n",
    "       emiter.publish_event('order', order)\n",
    "       n += 1\n",
    "\n"
   ]
  },
  {
   "cell_type": "code",
   "execution_count": null,
   "metadata": {
    "pycharm": {
     "name": "#%%\n"
    }
   },
   "outputs": [],
   "source": []
  }
 ],
 "metadata": {
  "kernelspec": {
   "display_name": "Python 3 (ipykernel)",
   "language": "python",
   "name": "python3"
  },
  "language_info": {
   "codemirror_mode": {
    "name": "ipython",
    "version": 3
   },
   "file_extension": ".py",
   "mimetype": "text/x-python",
   "name": "python",
   "nbconvert_exporter": "python",
   "pygments_lexer": "ipython3",
   "version": "3.8.10"
  }
 },
 "nbformat": 4,
 "nbformat_minor": 1
}