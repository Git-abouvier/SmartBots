{
 "cells": [
  {
   "cell_type": "markdown",
   "metadata": {
    "pycharm": {
     "name": "#%% md\n"
    }
   },
   "source": [
    "# Trading Manager for Crypto\n",
    "\n",
    "This notebook allow to comunicate with the services running in real time. All the comunications it is with MQ messages."
   ]
  },
  {
   "cell_type": "code",
   "execution_count": 17,
   "metadata": {
    "pycharm": {
     "name": "#%%\n"
    }
   },
   "outputs": [],
   "source": [
    "from smartbots.database_handler import Universe\n",
    "from smartbots import conf\n",
    "from smartbots import events\n",
    "import datetime as dt\n",
    "from smartbots.brokerMQ import Emit_Events\n",
    "import time\n",
    "\n",
    "# Conection to the database\n",
    "store = Universe()\n",
    "lib_petitions = store.get_library('petitions')\n",
    "# Conection to broker mq\n",
    "emiter = Emit_Events()\n",
    "\n",
    "def get_data_petition(name):\n",
    "    for i in range(10):\n",
    "        time.sleep(1)\n",
    "        # check if name in list_symbols\n",
    "        list_symbols = lib_petitions.list_symbols()\n",
    "        if name in list_symbols:\n",
    "            return lib_petitions.read(name).data\n",
    "        time.sleep(5)\n",
    "\n"
   ]
  },
  {
   "cell_type": "markdown",
   "metadata": {
    "pycharm": {
     "name": "#%% md\n"
    }
   },
   "source": [
    "## Analice Realtime positions from the portfolio VS Realtime position in Exchange\n",
    "It sends a petition msg to the portfolio service to get the realtime positions."
   ]
  },
  {
   "cell_type": "code",
   "execution_count": null,
   "outputs": [],
   "source": [
    "# Create the petition\n",
    "name_to_saving = f'positions_{dt.datetime.now().strftime(\"%Y%m%d%H%M%S\")}'\n",
    "function_to_run='get_saved_values_strategies_last' #get_saved_values_strategy  \n",
    "petition_pos = events.Petition(datetime=dt.datetime.now(), function_to_run=function_to_run,\n",
    "                               name_to_saving=name_to_saving)\n",
    "\n",
    "emiter.publish_event('petition', petition_pos)\n"
   ],
   "metadata": {
    "collapsed": false,
    "pycharm": {
     "name": "#%%\n"
    }
   }
  },
  {
   "cell_type": "code",
   "execution_count": 71,
   "metadata": {
    "pycharm": {
     "name": "#%%\n"
    }
   },
   "outputs": [
    {
     "name": "stdout",
     "output_type": "stream",
     "text": [
      "{'USDT': -193.6037, 'ETH': 0.1}\n"
     ]
    }
   ],
   "source": [
    "# Compute diference between broker and portfolio\n",
    "diference = {}\n",
    "for c in broker_pos.keys():\n",
    "    diference[c] =  round(agregate[c] - broker_pos[c],4)\n",
    "print(diference)"
   ]
  },
  {
   "cell_type": "code",
   "execution_count": 72,
   "metadata": {
    "pycharm": {
     "name": "#%%\n"
    }
   },
   "outputs": [],
   "source": [
    "# Create order to close diference\n",
    "n= 0\n",
    "for t in tickers:\n",
    "   d = diference[t.split('-')[0]]\n",
    "   if abs(d) > 0.01:\n",
    "       if d > 0:\n",
    "           action = 'buy'\n",
    "       else:\n",
    "           action = 'sell'\n",
    "       order_id_sender =f' {0}_{n}_{dt.datetime.utcnow().strftime(\"%Y%m%d%H%M%S\")}'\n",
    "       order = events.Order(datetime=dt.datetime.utcnow(),\n",
    "                            ticker=t, action=action,\n",
    "                            price=0, quantity=abs(d), type='market', sender_id=0,\n",
    "                            order_id_sender=order_id_sender)\n",
    "       emiter.publish_event('order', order)\n",
    "       n += 1\n",
    "\n"
   ]
  },
  {
   "cell_type": "code",
   "execution_count": null,
   "metadata": {
    "pycharm": {
     "name": "#%%\n"
    }
   },
   "outputs": [],
   "source": []
  }
 ],
 "metadata": {
  "kernelspec": {
   "display_name": "Python 3 (ipykernel)",
   "language": "python",
   "name": "python3"
  },
  "language_info": {
   "codemirror_mode": {
    "name": "ipython",
    "version": 3
   },
   "file_extension": ".py",
   "mimetype": "text/x-python",
   "name": "python",
   "nbconvert_exporter": "python",
   "pygments_lexer": "ipython3",
   "version": "3.8.10"
  }
 },
 "nbformat": 4,
 "nbformat_minor": 1
}