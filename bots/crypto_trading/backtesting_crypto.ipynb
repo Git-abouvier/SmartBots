{
 "cells": [
  {
   "cell_type": "markdown",
   "metadata": {},
   "source": [
    "# Backtest a  Strategy"
   ]
  },
  {
   "cell_type": "code",
   "execution_count": 2,
   "metadata": {
    "pycharm": {
     "is_executing": true
    }
   },
   "outputs": [],
   "source": [
    "%matplotlib inline\n",
    "import quantstats as qs\n",
    "# extend pandas functionality with metrics, etc.\n",
    "qs.extend_pandas()\n",
    "from smartbots.crypto.historical_downloader import historical_downloader, save_test_data\n",
    "import datetime as dt\n",
    "import pandas as pd\n",
    "from smartbots.engine.data_reader import read_data_to_dataframe\n",
    "from smartbots.engine.portfolio_constructor import Portfolio_Constructor"
   ]
  },
  {
   "cell_type": "markdown",
   "metadata": {},
   "source": [
    "## 1) Download Historical Data from Data Provider and save into the database.\n",
    "Please see here the docs of the exchanges available: https://github.com/ccxt/ccxt/wiki/Manual#markets\n",
    "\n",
    "\n",
    "If you already have the data in a database, you can skip this step and go to the next.\n",
    "\n",
    "Dependings of the symbols and the length of the data, the data loader will take some time to complete. Be pacience.\n",
    "\n",
    "If there are already some data in the database, it will update only the new data.\n"
   ]
  },
  {
   "cell_type": "code",
   "execution_count": 3,
   "metadata": {},
   "outputs": [
    {
     "name": "stderr",
     "output_type": "stream",
     "text": [
      "Pandas dataframe BTC-USDT_202210 contains Objects, saving as Blob\n"
     ]
    },
    {
     "name": "stdout",
     "output_type": "stream",
     "text": [
      "BTC-USDT Since: 2022-10-06T16:29:00.000Z\n",
      "Symbol BTC-USDT saved.\n",
      "* Historical data for BTC-USDT saved\n"
     ]
    },
    {
     "name": "stderr",
     "output_type": "stream",
     "text": [
      "Pandas dataframe ETH-USDT_202210 contains Objects, saving as Blob\n"
     ]
    },
    {
     "name": "stdout",
     "output_type": "stream",
     "text": [
      "ETH-USDT Since: 2022-10-06T16:29:00.000Z\n",
      "Symbol ETH-USDT saved.\n",
      "* Historical data for ETH-USDT saved\n"
     ]
    }
   ],
   "source": [
    "# Parameters\n",
    "test = False  # set False if you have the keys for the exchange and you copy it on docker/compose.env.\n",
    "\n",
    "if test:\n",
    "    provider ='test'\n",
    "    save_test_data()\n",
    "else:\n",
    "    provider = 'kucoin' # change for your exchange\n",
    "    symbols = [\"BTC-USDT\",\"ETH-USDT\"] # List of symbols to download from provider\n",
    "    start_date = dt.datetime(2022,9,1) # Start date of data to download\n",
    "    end_date = dt.datetime.utcnow() # End date of data to download\n",
    "    interval = '1m' # Interval of data to download, \n",
    "    historical_downloader(symbols=symbols,start_date=start_date, end_date=dt.datetime.utcnow(),\n",
    "           provider=provider,clean_symbols_database=[],interval=interval)"
   ]
  },
  {
   "cell_type": "markdown",
   "metadata": {},
   "source": [
    "## 2) Read Historical Data from Database and Visualize it.\n"
   ]
  },
  {
   "cell_type": "code",
   "execution_count": null,
   "metadata": {},
   "outputs": [],
   "source": [
    "provider = 'kucoin'\n",
    "symbols = [\"BTC-USDT\",\"ETH-USDT\"] # List of symbols to download from provider\n",
    "start_date = dt.datetime(2022,8,1) # Start date of data to download\n",
    "end_date = dt.datetime.utcnow() # End date of data to download\n",
    "df1 = read_data_to_dataframe(symbols[0], provider,start_date=start_date,end_date=end_date)\n",
    "df2 = read_data_to_dataframe(symbols[-1], provider,start_date=start_date,end_date=end_date)\n",
    "df = pd.concat([df1,df2],axis=0)"
   ]
  },
  {
   "cell_type": "code",
   "execution_count": null,
   "metadata": {},
   "outputs": [],
   "source": [
    "df1.close.plot()"
   ]
  },
  {
   "cell_type": "markdown",
   "metadata": {},
   "source": [
    "## 3) BackTesting"
   ]
  },
  {
   "cell_type": "markdown",
   "metadata": {},
   "source": [
    "### Settings"
   ]
  },
  {
   "cell_type": "code",
   "execution_count": 5,
   "metadata": {
    "jupyter": {
     "outputs_hidden": false
    }
   },
   "outputs": [],
   "source": [
    "provider = 'kucoin'\n",
    "inicial_cash = 50000 # initial capital for the portfolio\n",
    "start_date = dt.datetime(2022,8,1) # Start date for backtesting\n",
    "\n",
    "\n",
    "strategy1 = {'id': 1, # unique id for strategy to run\n",
    "             'strategy': 'Simple_Avg_Cross', # strategy name, create in smartbots/crypto/strategies\n",
    "             'params': {'ticker': 'BTC-USDT',\n",
    "             'short_period': 10,\n",
    "             'long_period': 500,\n",
    "             'quantity': 1,\n",
    "             'limit_save_values':1000,'point_value':1,'slippage':0}}\n",
    "\n",
    "strategy2 = {'id': 2, # unique id for strategy to run\n",
    "             'strategy': 'Simple_Avg_Cross', # strategy name, create in smartbots/crypto/strategies\n",
    "             'params': {'ticker': 'ETH-USDT',\n",
    "             'short_period': 10,\n",
    "             'long_period': 500,\n",
    "             'quantity': 1,\n",
    "             'limit_save_values':1000,'point_value':1,'slippage':0}}\n",
    "\n",
    "\n",
    "\n",
    "conf_portfolio = {'Name': 'PortfolioCrypto1',\n",
    "                  'Data_Sources': \n",
    "                  [{'tickers': ['BTC-USDT','ETH-USDT'],\n",
    "                   'event_type': 'bar',\n",
    "                   'historical_source': 'mongoDB',\n",
    "                   'historical_library': f'{provider}_historical_1min'}],\n",
    "                   'Strategies': \n",
    "                    [strategy1, strategy2]}"
   ]
  },
  {
   "cell_type": "code",
   "execution_count": null,
   "metadata": {
    "jupyter": {
     "outputs_hidden": false
    }
   },
   "outputs": [
    {
     "name": "stdout",
     "output_type": "stream",
     "text": [
      "BTC-USDT_202208\n",
      "ETH-USDT_202208\n"
     ]
    }
   ],
   "source": [
    "portfolio = Portfolio_Constructor(conf_portfolio, run_real=False, asset_type='crypto',\n",
    "                                             send_orders_to_broker=False, start_date=start_date,\n",
    "                                  inicial_cash=inicial_cash)\n",
    "portfolio.run_simulation() # backtest \n",
    "\n",
    "info_port = portfolio.get_saved_values_strategy() # read change of positions"
   ]
  },
  {
   "cell_type": "markdown",
   "metadata": {},
   "source": [
    "## Statistics\n",
    "\n",
    "Plots and statistics of the Strategies and the Portfolio."
   ]
  },
  {
   "cell_type": "code",
   "execution_count": null,
   "metadata": {
    "jupyter": {
     "outputs_hidden": false
    }
   },
   "outputs": [],
   "source": [
    "equities =portfolio.equity_handler.get_equities()\n",
    "portfolio = equities['equity_portfolio']['equity']\n",
    "port_return = portfolio.pct_change()\n",
    "qs.plots.snapshot(portfolio, title='Portfolio Performance')"
   ]
  },
  {
   "cell_type": "code",
   "execution_count": null,
   "metadata": {
    "jupyter": {
     "outputs_hidden": false
    }
   },
   "outputs": [],
   "source": [
    "qs.reports.metrics(port_return, \"BTC\",mode= 'basic')"
   ]
  }
 ],
 "metadata": {
  "kernelspec": {
   "display_name": "Python 3 (ipykernel)",
   "language": "python",
   "name": "python3"
  },
  "language_info": {
   "codemirror_mode": {
    "name": "ipython",
    "version": 3
   },
   "file_extension": ".py",
   "mimetype": "text/x-python",
   "name": "python",
   "nbconvert_exporter": "python",
   "pygments_lexer": "ipython3",
   "version": "3.8.10"
  }
 },
 "nbformat": 4,
 "nbformat_minor": 4
}
