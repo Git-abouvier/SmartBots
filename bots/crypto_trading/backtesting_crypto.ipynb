{
 "cells": [
  {
   "cell_type": "markdown",
   "metadata": {
    "pycharm": {
     "name": "#%% md\n"
    }
   },
   "source": [
    "# Backtest a  Strategy"
   ]
  },
  {
   "cell_type": "code",
   "execution_count": 1,
   "metadata": {
    "pycharm": {
     "name": "#%%\n"
    }
   },
   "outputs": [
    {
     "name": "stderr",
     "output_type": "stream",
     "text": [
      "C:\\Users\\jcarpio\\Anaconda3\\envs\\my38\\lib\\site-packages\\arctic\\store\\_pandas_ndarray_store.py:8: FutureWarning: The Panel class is removed from pandas. Accessing it from the top-level namespace will also be removed in the next version\n",
      "  from pandas import Panel\n"
     ]
    }
   ],
   "source": [
    "%matplotlib inline\n",
    "import quantstats as qs\n",
    "# extend pandas functionality with metrics, etc.\n",
    "qs.extend_pandas()\n",
    "from smartbots.crypto.historical_downloader import historical_downloader, save_test_data\n",
    "import datetime as dt\n",
    "import pandas as pd\n",
    "from smartbots.engine.data_reader import read_data_to_dataframe\n",
    "from smartbots.engine.portfolio_constructor import Portfolio_Constructor"
   ]
  },
  {
   "cell_type": "code",
   "execution_count": 2,
   "outputs": [
    {
     "name": "stdout",
     "output_type": "stream",
     "text": [
      "aiohttp==3.8.1\n",
      "aiosignal==1.2.0\n",
      "ansiwrap==0.8.4\n",
      "anyio @ file:///D:/bld/anyio_1641898219811/work/dist\n",
      "APScheduler==3.6.3\n",
      "arctic @ git+https://github.com/man-group/arctic.git@451646458c5baf85815b1e4890b67b5bddba9f27\n",
      "argon2-cffi @ file:///home/conda/feedstock_root/build_artifacts/argon2-cffi_1640817743617/work\n",
      "argon2-cffi-bindings @ file:///D:/bld/argon2-cffi-bindings_1640855429528/work\n",
      "async-generator==1.10\n",
      "async-timeout==4.0.2\n",
      "atomicwrites==1.4.0\n",
      "attrs @ file:///home/conda/feedstock_root/build_artifacts/attrs_1640799537051/work\n",
      "Babel @ file:///home/conda/feedstock_root/build_artifacts/babel_1619719576210/work\n",
      "backcall @ file:///home/conda/feedstock_root/build_artifacts/backcall_1592338393461/work\n",
      "backports.functools-lru-cache @ file:///home/conda/feedstock_root/build_artifacts/backports.functools_lru_cache_1618230623929/work\n",
      "backports.zoneinfo==0.2.1\n",
      "base58==2.1.1\n",
      "bech32==1.2.0\n",
      "betterproto==2.0.0b4\n",
      "bip32utils==0.3.post4\n",
      "bitarray==2.6.0\n",
      "bleach @ file:///home/conda/feedstock_root/build_artifacts/bleach_1629908509068/work\n",
      "boltons==21.0.0\n",
      "brotlipy @ file:///D:/bld/brotlipy_1636012381660/work\n",
      "cachetools==4.2.2\n",
      "certifi @ file:///C:/Windows/TEMP/abs_e9b7158a-aa56-4a5b-87b6-c00d295b01fanefpc8_o/croots/recipe/certifi_1655968940823/work/certifi\n",
      "cffi @ file:///D:/bld/cffi_1636046293990/work\n",
      "charset-normalizer @ file:///home/conda/feedstock_root/build_artifacts/charset-normalizer_1641584610847/work\n",
      "click==8.0.4\n",
      "colorama @ file:///home/conda/feedstock_root/build_artifacts/colorama_1602866480661/work\n",
      "coverage==6.2\n",
      "cryptography @ file:///D:/bld/cryptography_1639699508385/work\n",
      "cycler @ file:///tmp/build/80754af9/cycler_1637851556182/work\n",
      "cytoolz==0.12.0\n",
      "dataclasses-json==0.5.7\n",
      "dateparser==1.1.1\n",
      "debugpy @ file:///D:/bld/debugpy_1636043421411/work\n",
      "decorator @ file:///home/conda/feedstock_root/build_artifacts/decorator_1641555617451/work\n",
      "defusedxml @ file:///home/conda/feedstock_root/build_artifacts/defusedxml_1615232257335/work\n",
      "dill==0.3.5.1\n",
      "ecdsa==0.17.0\n",
      "entrypoints @ file:///home/conda/feedstock_root/build_artifacts/entrypoints_1605121927639/work/dist/entrypoints-0.3-py2.py3-none-any.whl\n",
      "enum-compat==0.0.3\n",
      "eth-abi==2.2.0\n",
      "eth-account==0.5.9\n",
      "eth-hash==0.5.0\n",
      "eth-keyfile==0.5.1\n",
      "eth-keys==0.3.4\n",
      "eth-rlp==0.2.1\n",
      "eth-typing==2.3.0\n",
      "eth-utils==1.9.5\n",
      "flit_core @ file:///home/conda/feedstock_root/build_artifacts/flit-core_1640697294996/work/source/flit_core\n",
      "fonttools==4.25.0\n",
      "frozenlist==1.3.0\n",
      "furl==2.1.3\n",
      "grpclib==0.4.2\n",
      "h2==4.1.0\n",
      "hexbytes==0.3.0\n",
      "hpack==4.0.0\n",
      "hyperframe==6.0.1\n",
      "idna @ file:///home/conda/feedstock_root/build_artifacts/idna_1609836280497/work\n",
      "imageio==2.21.2\n",
      "importlib-metadata @ file:///D:/bld/importlib-metadata_1639976435943/work\n",
      "importlib-resources @ file:///home/conda/feedstock_root/build_artifacts/importlib_resources_1635615662634/work\n",
      "iniconfig==1.1.1\n",
      "ipfshttpclient==0.8.0a2\n",
      "ipykernel @ file:///D:/bld/ipykernel_1641325619739/work/dist/ipykernel-6.6.1-py3-none-any.whl\n",
      "ipython @ file:///D:/bld/ipython_1641404855756/work\n",
      "ipython-genutils==0.2.0\n",
      "ipywidgets @ file:///tmp/build/80754af9/ipywidgets_1634143127070/work\n",
      "jedi @ file:///D:/bld/jedi_1637175281472/work\n",
      "Jinja2 @ file:///home/conda/feedstock_root/build_artifacts/jinja2_1636510082894/work\n",
      "joblib==1.1.0\n",
      "json5 @ file:///home/conda/feedstock_root/build_artifacts/json5_1600692310011/work\n",
      "jsonschema @ file:///home/conda/feedstock_root/build_artifacts/jsonschema-meta_1641134858126/work\n",
      "jupyter @ file:///C:/Windows/TEMP/abs_56xfdi__li/croots/recipe/jupyter_1659349053177/work\n",
      "jupyter-client @ file:///home/conda/feedstock_root/build_artifacts/jupyter_client_1637611911738/work\n",
      "jupyter-console @ file:///opt/conda/conda-bld/jupyter_console_1647002188872/work\n",
      "jupyter-core @ file:///D:/bld/jupyter_core_1636814449073/work\n",
      "jupyter-server @ file:///home/conda/feedstock_root/build_artifacts/jupyter_server_1639084645710/work\n",
      "jupyterlab @ file:///home/conda/feedstock_root/build_artifacts/jupyterlab_1641589478886/work\n",
      "jupyterlab-pygments @ file:///home/conda/feedstock_root/build_artifacts/jupyterlab_pygments_1601375948261/work\n",
      "jupyterlab-server @ file:///home/conda/feedstock_root/build_artifacts/jupyterlab_server_1641592475363/work\n",
      "jupyterlab-widgets @ file:///tmp/build/80754af9/jupyterlab_widgets_1609884341231/work\n",
      "kiwisolver @ file:///C:/ci/kiwisolver_1653292408254/work\n",
      "llvmlite==0.39.0\n",
      "lru-dict==1.1.8\n",
      "lxml==4.9.1\n",
      "lz4==3.1.10\n",
      "MarkupSafe @ file:///D:/bld/markupsafe_1635833725355/work\n",
      "marshmallow==3.17.1\n",
      "marshmallow-enum==1.5.1\n",
      "matplotlib @ file:///C:/ci/matplotlib-suite_1660169687702/work\n",
      "matplotlib-inline @ file:///home/conda/feedstock_root/build_artifacts/matplotlib-inline_1631080358261/work\n",
      "mistune @ file:///D:/bld/mistune_1635844874781/work\n",
      "mkl-fft==1.3.1\n",
      "mkl-random @ file:///C:/ci/mkl_random_1626186184278/work\n",
      "mkl-service==2.4.0\n",
      "mnemonic==0.19\n",
      "mock==4.0.3\n",
      "mockextras==1.0.2\n",
      "multiaddr==0.0.9\n",
      "multidict==6.0.2\n",
      "multitasking==0.0.11\n",
      "munkres==1.1.4\n",
      "mypy-extensions==0.4.3\n",
      "nbclassic @ file:///home/conda/feedstock_root/build_artifacts/nbclassic_1641934401341/work\n",
      "nbclient @ file:///home/conda/feedstock_root/build_artifacts/nbclient_1637327213451/work\n",
      "nbconvert @ file:///D:/bld/nbconvert_1641352164252/work\n",
      "nbformat @ file:///home/conda/feedstock_root/build_artifacts/nbformat_1617383142101/work\n",
      "nest-asyncio @ file:///home/conda/feedstock_root/build_artifacts/nest-asyncio_1638419302549/work\n",
      "netaddr==0.8.0\n",
      "notebook @ file:///home/conda/feedstock_root/build_artifacts/notebook_1637122013008/work\n",
      "numba==0.56.0\n",
      "numpy==1.18.4\n",
      "orderedmultidict==1.0.1\n",
      "packaging @ file:///home/conda/feedstock_root/build_artifacts/packaging_1637239678211/work\n",
      "pandas==1.0.3\n",
      "pandocfilters @ file:///home/conda/feedstock_root/build_artifacts/pandocfilters_1631603243851/work\n",
      "papermill==2.4.0\n",
      "parsimonious==0.8.1\n",
      "parso @ file:///home/conda/feedstock_root/build_artifacts/parso_1638334955874/work\n",
      "pickleshare @ file:///home/conda/feedstock_root/build_artifacts/pickleshare_1602536217715/work\n",
      "pika==1.3.0\n",
      "Pillow==9.2.0\n",
      "plotly==5.6.0\n",
      "pluggy==1.0.0\n",
      "prometheus-client @ file:///home/conda/feedstock_root/build_artifacts/prometheus_client_1635538335951/work\n",
      "prompt-toolkit @ file:///tmp/build/80754af9/prompt-toolkit_1633440160888/work\n",
      "protobuf==3.19.4\n",
      "py==1.11.0\n",
      "pycoingecko==2.2.0\n",
      "pycparser @ file:///home/conda/feedstock_root/build_artifacts/pycparser_1636257122734/work\n",
      "pycryptodome==3.15.0\n",
      "Pygments @ file:///home/conda/feedstock_root/build_artifacts/pygments_1641580240686/work\n",
      "pymongo==3.11.0\n",
      "pyOpenSSL @ file:///home/conda/feedstock_root/build_artifacts/pyopenssl_1633192417276/work\n",
      "pyparsing @ file:///home/conda/feedstock_root/build_artifacts/pyparsing_1636757021002/work\n",
      "pyrsistent @ file:///D:/bld/pyrsistent_1636052904035/work\n",
      "PySocks @ file:///D:/bld/pysocks_1635862590164/work\n",
      "pytest==6.2.5\n",
      "pytest-cov==3.0.0\n",
      "python-dateutil @ file:///home/conda/feedstock_root/build_artifacts/python-dateutil_1626286286081/work\n",
      "python-dotenv==0.20.0\n",
      "python-kucoin==2.1.3\n",
      "python-telegram-bot==13.13\n",
      "pytz @ file:///home/conda/feedstock_root/build_artifacts/pytz_1633452062248/work\n",
      "pytz-deprecation-shim==0.1.0.post0\n",
      "pywin32==303\n",
      "pywinpty==0.5.7\n",
      "PyYAML==6.0\n",
      "pyzmq @ file:///D:/bld/pyzmq_1635877383625/work\n",
      "qtconsole @ file:///C:/Windows/TEMP/abs_1bzv7pia1g/croots/recipe/qtconsole_1659510302359/work\n",
      "QtPy @ file:///opt/conda/conda-bld/qtpy_1649073884068/work\n",
      "QuantStats==0.0.59\n",
      "regex==2022.3.2\n",
      "requests @ file:///home/conda/feedstock_root/build_artifacts/requests_1641580202195/work\n",
      "rlp==2.0.1\n",
      "schedule==1.1.0\n",
      "scikit-learn==1.1.2\n",
      "scipy==1.8.1\n",
      "seaborn==0.12.0\n",
      "Send2Trash @ file:///home/conda/feedstock_root/build_artifacts/send2trash_1628511208346/work\n",
      "shamir-mnemonic==0.2.2\n",
      "sip==4.19.13\n",
      "six @ file:///home/conda/feedstock_root/build_artifacts/six_1620240208055/work\n",
      "sniffio @ file:///D:/bld/sniffio_1635844809276/work\n",
      "tabulate==0.8.10\n",
      "tenacity==8.0.1\n",
      "terminado==0.9.4\n",
      "terra-proto==1.0.1\n",
      "terra-sdk==2.0.4\n",
      "testpath @ file:///home/conda/feedstock_root/build_artifacts/testpath_1621261527237/work\n",
      "textwrap3==0.9.2\n",
      "threadpoolctl==3.1.0\n",
      "toml==0.10.2\n",
      "tomli==2.0.0\n",
      "toolz==0.12.0\n",
      "tornado @ file:///D:/bld/tornado_1635819758615/work\n",
      "tqdm==4.64.0\n",
      "traitlets @ file:///home/conda/feedstock_root/build_artifacts/traitlets_1635260543454/work\n",
      "typing-inspect==0.8.0\n",
      "typing_extensions==4.3.0\n",
      "tzdata==2021.5\n",
      "tzlocal==4.1\n",
      "urllib3 @ file:///home/conda/feedstock_root/build_artifacts/urllib3_1641584929973/work\n",
      "varint==1.0.2\n",
      "vectorbt==0.24.0\n",
      "wcwidth @ file:///home/conda/feedstock_root/build_artifacts/wcwidth_1600965781394/work\n",
      "web3==5.30.0\n",
      "webencodings==0.5.1\n",
      "websocket-client @ file:///home/conda/feedstock_root/build_artifacts/websocket-client_1638949723239/work\n",
      "websockets==9.1\n",
      "widgetsnbextension @ file:///C:/ci/widgetsnbextension_1645009558218/work\n",
      "win-inet-pton @ file:///D:/bld/win_inet_pton_1635833007271/work\n",
      "wincertstore==0.2\n",
      "wrapt==1.14.0\n",
      "yarl==1.7.2\n",
      "yfinance==0.1.74\n",
      "zipp @ file:///home/conda/feedstock_root/build_artifacts/zipp_1641731510635/work\n"
     ]
    }
   ],
   "source": [
    "!pip freeze requirements2.txt"
   ],
   "metadata": {
    "collapsed": false,
    "pycharm": {
     "name": "#%%\n"
    }
   }
  },
  {
   "cell_type": "markdown",
   "metadata": {
    "pycharm": {
     "name": "#%% md\n"
    }
   },
   "source": [
    "## 1) Download Historical Data from Data Provider and save into the database.\n",
    "If you already have the data in a database, you can skip this step and go to the next.\n",
    "\n",
    "Dependings of the symbols and the length of the data, the data loader will take some time to complete. Be pacience.\n",
    "\n",
    "If there are already some data in the database, it will update only the new data.\n"
   ]
  },
  {
   "cell_type": "code",
   "execution_count": 4,
   "metadata": {
    "pycharm": {
     "name": "#%%\n"
    }
   },
   "outputs": [
    {
     "name": "stdout",
     "output_type": "stream",
     "text": [
      "2022-09-08 10:25:00\n",
      "2022-09-07 09:25:00\n",
      "2022-09-06 08:25:00\n",
      "2022-09-05 07:25:00\n",
      "2022-09-04 06:25:00\n",
      "2022-09-03 05:25:00\n",
      "2022-09-02 04:25:00\n",
      "2022-09-01 03:25:00\n",
      "2022-08-31 02:25:00\n",
      "2022-08-30 01:25:00\n",
      "2022-08-29 00:25:00\n",
      "2022-08-27 23:25:00\n",
      "2022-08-26 22:25:00\n",
      "2022-08-25 21:25:00\n",
      "2022-08-25 16:18:00\n"
     ]
    },
    {
     "name": "stderr",
     "output_type": "stream",
     "text": [
      "Pandas dataframe BTC-USDT_202208 contains Objects, saving as Blob\n",
      "Pandas dataframe BTC-USDT_202209 contains Objects, saving as Blob\n"
     ]
    },
    {
     "name": "stdout",
     "output_type": "stream",
     "text": [
      "Symbol BTC-USDT saved.\n",
      "* Historical data for BTC-USDT saved\n",
      "2022-09-08 10:25:00\n",
      "Waiting for 10 seconds for limits of requests\n",
      "2022-09-07 09:25:00\n",
      "2022-09-06 08:25:00\n",
      "2022-09-05 07:25:00\n",
      "2022-09-04 06:25:00\n",
      "2022-09-03 05:25:00\n",
      "2022-09-02 04:25:00\n",
      "2022-09-01 03:25:00\n",
      "2022-08-31 02:25:00\n",
      "2022-08-30 01:25:00\n",
      "2022-08-29 00:25:00\n",
      "2022-08-27 23:25:00\n",
      "2022-08-26 22:25:00\n",
      "Waiting for 10 seconds for limits of requests\n",
      "2022-08-25 21:25:00\n",
      "2022-08-25 16:18:00\n"
     ]
    },
    {
     "name": "stderr",
     "output_type": "stream",
     "text": [
      "Pandas dataframe ETH-USDT_202208 contains Objects, saving as Blob\n",
      "Pandas dataframe ETH-USDT_202209 contains Objects, saving as Blob\n"
     ]
    },
    {
     "name": "stdout",
     "output_type": "stream",
     "text": [
      "Symbol ETH-USDT saved.\n",
      "* Historical data for ETH-USDT saved\n"
     ]
    }
   ],
   "source": [
    "# Parameters\n",
    "test = False  # set False if you have the keys for the exchange and you copy it on docker/compose.env.\n",
    "\n",
    "if test:\n",
    "    provider ='test'\n",
    "    save_test_data()\n",
    "else:\n",
    "    provider = 'kucoin'\n",
    "    symbols = [\"BTC-USDT\",\"ETH-USDT\"] # List of symbols to download from provider\n",
    "    start_date = dt.datetime(2022,1,1) # Start date of data to download\n",
    "    end_date = dt.datetime.utcnow() # End date of data to download\n",
    "    interval = '1min' # Interval of data to download\n",
    "    historical_downloader(symbols=symbols,start_date=start_date, end_date=dt.datetime.utcnow(),\n",
    "           provider=provider,clean_symbols_database=[],interval=interval)"
   ]
  },
  {
   "cell_type": "markdown",
   "metadata": {
    "pycharm": {
     "name": "#%% md\n"
    }
   },
   "source": [
    "## 2) Read Historical Data from Database and Visualize it.\n"
   ]
  },
  {
   "cell_type": "code",
   "execution_count": 2,
   "metadata": {
    "pycharm": {
     "name": "#%%\n"
    }
   },
   "outputs": [],
   "source": [
    "provider = 'kucoin'\n",
    "symbols = [\"BTC-USDT\",\"ETH-USDT\"] # List of symbols to download from provider\n",
    "start_date = dt.datetime(2022,8,1) # Start date of data to download\n",
    "end_date = dt.datetime.utcnow() # End date of data to download\n",
    "df1 = read_data_to_dataframe(symbols[0], provider,start_date=start_date,end_date=end_date)\n",
    "df2 = read_data_to_dataframe(symbols[-1], provider,start_date=start_date,end_date=end_date)\n",
    "df = pd.concat([df1,df2],axis=0)"
   ]
  },
  {
   "cell_type": "code",
   "execution_count": 3,
   "metadata": {
    "pycharm": {
     "name": "#%%\n"
    }
   },
   "outputs": [
    {
     "data": {
      "text/plain": "<AxesSubplot:xlabel='date'>"
     },
     "execution_count": 3,
     "metadata": {},
     "output_type": "execute_result"
    },
    {
     "data": {
      "text/plain": "<Figure size 432x288 with 1 Axes>",
      "image/png": "[encoded data removed]"
     },
     "metadata": {
      "needs_background": "light"
     },
     "output_type": "display_data"
    }
   ],
   "source": [
    "df1.close.plot()"
   ]
  },
  {
   "cell_type": "markdown",
   "metadata": {
    "pycharm": {
     "name": "#%% md\n"
    }
   },
   "source": [
    "## 3) BackTesting"
   ]
  },
  {
   "cell_type": "markdown",
   "metadata": {
    "pycharm": {
     "name": "#%% md\n"
    }
   },
   "source": [
    "### Settings"
   ]
  },
  {
   "cell_type": "code",
   "execution_count": 4,
   "outputs": [],
   "source": [
    "provider = 'kucoin'\n",
    "inicial_cash = 50000 # initial capital for the portfolio\n",
    "start_date = dt.datetime(2022,8,1) # Start date for backtesting\n",
    "\n",
    "\n",
    "strategy1 = {'id': 1, # unique id for strategy to run\n",
    "             'strategy': 'Simple_Avg_Cross', # strategy name, create in smartbots/crypto/strategies\n",
    "             'params': {'ticker': 'BTC-USDT',\n",
    "             'short_period': 10,\n",
    "             'long_period': 500,\n",
    "             'quantity': 1,\n",
    "             'limit_save_values':1000,'point_value':1,'slippage':0}}\n",
    "\n",
    "strategy2 = {'id': 2, # unique id for strategy to run\n",
    "             'strategy': 'Simple_Avg_Cross', # strategy name, create in smartbots/crypto/strategies\n",
    "             'params': {'ticker': 'ETH-USDT',\n",
    "             'short_period': 10,\n",
    "             'long_period': 500,\n",
    "             'quantity': 1,\n",
    "             'limit_save_values':1000,'point_value':1,'slippage':0}}\n",
    "\n",
    "\n",
    "\n",
    "conf_portfolio = {'Name': 'PortfolioCrypto1',\n",
    "                  'Data_Sources': \n",
    "                  [{'tickers': ['BTC-USDT','ETH-USDT'],\n",
    "                   'event_type': 'bar',\n",
    "                   'historical_source': 'mongoDB',\n",
    "                   'historical_library': f'{provider}_historical_1min'}],\n",
    "                   'Strategies': \n",
    "                    [strategy1, strategy2]}"
   ],
   "metadata": {
    "collapsed": false,
    "pycharm": {
     "name": "#%%\n"
    }
   }
  },
  {
   "cell_type": "code",
   "execution_count": 5,
   "outputs": [
    {
     "name": "stdout",
     "output_type": "stream",
     "text": [
      "BTC-USDT_202208\n",
      "ETH-USDT_202208\n",
      "BTC-USDT_202209\n",
      "ETH-USDT_202209\n"
     ]
    }
   ],
   "source": [
    "portfolio = Portfolio_Constructor(conf_portfolio, run_real=False, asset_type='crypto',\n",
    "                                             send_orders_to_broker=False, start_date=start_date,\n",
    "                                  inicial_cash=inicial_cash)\n",
    "portfolio.run_simulation() # backtest \n",
    "\n",
    "info_port = portfolio.get_saved_values_strategy() # read change of positions"
   ],
   "metadata": {
    "collapsed": false,
    "pycharm": {
     "name": "#%%\n"
    }
   }
  },
  {
   "cell_type": "markdown",
   "source": [
    "## Statistics\n",
    "\n",
    "Plots and statistics of the Strategies and the Portfolio."
   ],
   "metadata": {
    "collapsed": false,
    "pycharm": {
     "name": "#%% md\n"
    }
   }
  },
  {
   "cell_type": "code",
   "execution_count": 6,
   "outputs": [
    {
     "data": {
      "text/plain": "<Figure size 720x576 with 3 Axes>",
      "image/png": "[encoded data removed]"
     },
     "metadata": {},
     "output_type": "display_data"
    }
   ],
   "source": [
    "equities =portfolio.equity_handler.get_equities()\n",
    "portfolio = equities['equity_portfolio']['equity']\n",
    "port_return = portfolio.pct_change()\n",
    "qs.plots.snapshot(portfolio, title='Portfolio Performance')"
   ],
   "metadata": {
    "collapsed": false,
    "pycharm": {
     "name": "#%%\n"
    }
   }
  },
  {
   "cell_type": "code",
   "execution_count": 7,
   "outputs": [
    {
     "name": "stdout",
     "output_type": "stream",
     "text": [
      "                    Strategy    Benchmark (BTC)\n",
      "------------------  ----------  -----------------\n",
      "Start Period        2022-08-01  2022-08-01\n",
      "End Period          2022-09-06  2022-09-06\n",
      "Risk-Free Rate      0.0%        0.0%\n",
      "Time in Market      92.0%       68.0%\n",
      "\n",
      "Cumulative Return   -4.61%      -2.52%\n",
      "CAGR﹪              -38.04%     -22.77%\n",
      "\n",
      "Sharpe              -3.06       -4.53\n",
      "Prob. Sharpe Ratio  13.62%      2.57%\n",
      "Sortino             -3.95       -4.91\n",
      "Sortino/√2          -2.8        -3.47\n",
      "Omega               0.59        0.59\n",
      "\n",
      "Max Drawdown        -6.54%      -2.52%\n",
      "Longest DD Days     23          35\n",
      "\n",
      "Gain/Pain Ratio     -0.41       -0.57\n",
      "Gain/Pain (1M)      -1.0        -1.0\n",
      "\n",
      "Payoff Ratio        1.46        0.74\n",
      "Profit Factor       0.59        0.43\n",
      "Common Sense Ratio  0.39        0.23\n",
      "CPC Index           0.31        0.11\n",
      "Tail Ratio          0.66        0.54\n",
      "Outlier Win Ratio   2.09        10.48\n",
      "Outlier Loss Ratio  2.01        3.77\n",
      "\n",
      "MTD                 -1.59%      -0.59%\n",
      "3M                  -4.61%      -2.52%\n",
      "6M                  -4.61%      -2.52%\n",
      "YTD                 -4.61%      -2.52%\n",
      "1Y                  -4.61%      -2.52%\n",
      "3Y (ann.)           -38.04%     -22.77%\n",
      "5Y (ann.)           -38.04%     -22.77%\n",
      "10Y (ann.)          -38.04%     -22.77%\n",
      "All-time (ann.)     -38.04%     -22.77%\n",
      "\n",
      "Avg. Drawdown       -2.7%       -2.52%\n",
      "Avg. Drawdown Days  11          35\n",
      "Recovery Factor     -0.71       -1.0\n",
      "Ulcer Index         0.04        0.02\n",
      "Serenity Index      -0.13       -0.16\n"
     ]
    }
   ],
   "source": [
    "qs.reports.metrics(port_return, \"BTC\",mode= 'basic')"
   ],
   "metadata": {
    "collapsed": false,
    "pycharm": {
     "name": "#%%\n"
    }
   }
  },
  {
   "cell_type": "code",
   "execution_count": null,
   "outputs": [],
   "source": [],
   "metadata": {
    "collapsed": false,
    "pycharm": {
     "name": "#%%\n"
    }
   }
  }
 ],
 "metadata": {
  "kernelspec": {
   "display_name": "Python 3 (ipykernel)",
   "language": "python",
   "name": "python3"
  },
  "language_info": {
   "codemirror_mode": {
    "name": "ipython",
    "version": 3
   },
   "file_extension": ".py",
   "mimetype": "text/x-python",
   "name": "python",
   "nbconvert_exporter": "python",
   "pygments_lexer": "ipython3",
   "version": "3.8.10"
  }
 },
 "nbformat": 4,
 "nbformat_minor": 1
}