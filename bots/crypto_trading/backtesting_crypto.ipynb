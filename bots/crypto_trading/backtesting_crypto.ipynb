{
 "cells": [
  {
   "cell_type": "markdown",
   "metadata": {
    "pycharm": {
     "name": "#%% md\n"
    }
   },
   "source": [
    "# Backtest a  Strategy"
   ]
  },
  {
   "cell_type": "code",
   "execution_count": 1,
   "metadata": {
    "pycharm": {
     "name": "#%%\n"
    }
   },
   "outputs": [
    {
     "name": "stderr",
     "output_type": "stream",
     "text": [
      "C:\\Users\\jacar\\OneDrive\\Escritorio\\SmartBots\\venv\\lib\\site-packages\\arctic\\store\\_pandas_ndarray_store.py:8: FutureWarning: The Panel class is removed from pandas. Accessing it from the top-level namespace will also be removed in the next version\n",
      "  from pandas import Panel\n"
     ]
    }
   ],
   "source": [
    "from smartbots.crypto.historical_downloader import historical_downloader, save_test_data\n",
    "import datetime as dt\n",
    "from smartbots.engine.data_reader import read_data_to_dataframe\n",
    "from smartbots.engine.portfolio_constructor import Portfolio_Constructor"
   ]
  },
  {
   "cell_type": "markdown",
   "metadata": {
    "pycharm": {
     "name": "#%% md\n"
    }
   },
   "source": [
    "## 1) Download Historical Data from Data Provider and save into the database.\n",
    "If you already have the data in a database, you can skip this step and go to the next.\n",
    "\n",
    "Dependings of the symbols and the length of the data, the data loader will take some time to complete. Be pacience.\n",
    "\n",
    "If there are already some data in the database, it will update only the new data.\n"
   ]
  },
  {
   "cell_type": "code",
   "execution_count": 3,
   "metadata": {
    "pycharm": {
     "name": "#%%\n"
    }
   },
   "outputs": [
    {
     "name": "stderr",
     "output_type": "stream",
     "text": [
      "Pandas dataframe BTC-USDT_202201 contains Objects, saving as Blob\n"
     ]
    },
    {
     "name": "stdout",
     "output_type": "stream",
     "text": [
      "Symbol BTC-USDT_202201 saved.\n"
     ]
    },
    {
     "name": "stderr",
     "output_type": "stream",
     "text": [
      "Pandas dataframe BTC-USDT_202202 contains Objects, saving as Blob\n"
     ]
    },
    {
     "name": "stdout",
     "output_type": "stream",
     "text": [
      "Symbol BTC-USDT_202202 saved.\n"
     ]
    },
    {
     "name": "stderr",
     "output_type": "stream",
     "text": [
      "Pandas dataframe BTC-USDT_202203 contains Objects, saving as Blob\n"
     ]
    },
    {
     "name": "stdout",
     "output_type": "stream",
     "text": [
      "Symbol BTC-USDT_202203 saved.\n"
     ]
    },
    {
     "name": "stderr",
     "output_type": "stream",
     "text": [
      "Pandas dataframe BTC-USDT_202204 contains Objects, saving as Blob\n"
     ]
    },
    {
     "name": "stdout",
     "output_type": "stream",
     "text": [
      "Symbol BTC-USDT_202204 saved.\n"
     ]
    },
    {
     "name": "stderr",
     "output_type": "stream",
     "text": [
      "Pandas dataframe BTC-USDT_202205 contains Objects, saving as Blob\n"
     ]
    },
    {
     "name": "stdout",
     "output_type": "stream",
     "text": [
      "Symbol BTC-USDT_202205 saved.\n"
     ]
    },
    {
     "name": "stderr",
     "output_type": "stream",
     "text": [
      "Pandas dataframe BTC-USDT_202206 contains Objects, saving as Blob\n"
     ]
    },
    {
     "name": "stdout",
     "output_type": "stream",
     "text": [
      "Symbol BTC-USDT_202206 saved.\n"
     ]
    },
    {
     "name": "stderr",
     "output_type": "stream",
     "text": [
      "Pandas dataframe BTC-USDT_202207 contains Objects, saving as Blob\n"
     ]
    },
    {
     "name": "stdout",
     "output_type": "stream",
     "text": [
      "Symbol BTC-USDT_202207 saved.\n"
     ]
    },
    {
     "name": "stderr",
     "output_type": "stream",
     "text": [
      "Pandas dataframe BTC-USDT_202208 contains Objects, saving as Blob\n"
     ]
    },
    {
     "name": "stdout",
     "output_type": "stream",
     "text": [
      "Symbol BTC-USDT_202208 saved.\n"
     ]
    },
    {
     "name": "stderr",
     "output_type": "stream",
     "text": [
      "Pandas dataframe ETH-USDT_202201 contains Objects, saving as Blob\n"
     ]
    },
    {
     "name": "stdout",
     "output_type": "stream",
     "text": [
      "Symbol ETH-USDT_202201 saved.\n"
     ]
    },
    {
     "name": "stderr",
     "output_type": "stream",
     "text": [
      "Pandas dataframe ETH-USDT_202202 contains Objects, saving as Blob\n"
     ]
    },
    {
     "name": "stdout",
     "output_type": "stream",
     "text": [
      "Symbol ETH-USDT_202202 saved.\n"
     ]
    },
    {
     "name": "stderr",
     "output_type": "stream",
     "text": [
      "Pandas dataframe ETH-USDT_202203 contains Objects, saving as Blob\n"
     ]
    },
    {
     "name": "stdout",
     "output_type": "stream",
     "text": [
      "Symbol ETH-USDT_202203 saved.\n"
     ]
    },
    {
     "name": "stderr",
     "output_type": "stream",
     "text": [
      "Pandas dataframe ETH-USDT_202204 contains Objects, saving as Blob\n"
     ]
    },
    {
     "name": "stdout",
     "output_type": "stream",
     "text": [
      "Symbol ETH-USDT_202204 saved.\n"
     ]
    },
    {
     "name": "stderr",
     "output_type": "stream",
     "text": [
      "Pandas dataframe ETH-USDT_202205 contains Objects, saving as Blob\n"
     ]
    },
    {
     "name": "stdout",
     "output_type": "stream",
     "text": [
      "Symbol ETH-USDT_202205 saved.\n"
     ]
    },
    {
     "name": "stderr",
     "output_type": "stream",
     "text": [
      "Pandas dataframe ETH-USDT_202206 contains Objects, saving as Blob\n"
     ]
    },
    {
     "name": "stdout",
     "output_type": "stream",
     "text": [
      "Symbol ETH-USDT_202206 saved.\n"
     ]
    },
    {
     "name": "stderr",
     "output_type": "stream",
     "text": [
      "Pandas dataframe ETH-USDT_202207 contains Objects, saving as Blob\n"
     ]
    },
    {
     "name": "stdout",
     "output_type": "stream",
     "text": [
      "Symbol ETH-USDT_202207 saved.\n"
     ]
    },
    {
     "name": "stderr",
     "output_type": "stream",
     "text": [
      "Pandas dataframe ETH-USDT_202208 contains Objects, saving as Blob\n"
     ]
    },
    {
     "name": "stdout",
     "output_type": "stream",
     "text": [
      "Symbol ETH-USDT_202208 saved.\n"
     ]
    }
   ],
   "source": [
    "# Parameters\n",
    "test = True  # set False if you have the keys for the exchange and you copy it on docker/compose.env.\n",
    "\n",
    "if test:\n",
    "    provider ='test'\n",
    "    save_test_data()\n",
    "else:\n",
    "    provider = 'kucoin'\n",
    "    symbols = [\"BTC-USDT\",\"ETH-USDT\"] # List of symbols to download from provider\n",
    "    start_date = dt.datetime(2022,1,1) # Start date of data to download\n",
    "    end_date = dt.datetime.utcnow() # End date of data to download\n",
    "    interval = '1min' # Interval of data to download\n",
    "    historical_downloader(symbols=symbols,start_date=start_date, end_date=dt.datetime.utcnow(),\n",
    "           provider=provider,clean_symbols_database=[],interval=interval)"
   ]
  },
  {
   "cell_type": "markdown",
   "metadata": {
    "pycharm": {
     "name": "#%% md\n"
    }
   },
   "source": [
    "## 2) Read Historical Data from Database and Visualize it.\n"
   ]
  },
  {
   "cell_type": "code",
   "execution_count": 4,
   "metadata": {
    "pycharm": {
     "name": "#%%\n"
    }
   },
   "outputs": [],
   "source": [
    "provider = 'test'\n",
    "symbols = [\"BTC-USDT\",\"ETH-USDT\"] # List of symbols to download from provider\n",
    "start_date = dt.datetime(2022,1,1) # Start date of data to download\n",
    "end_date = dt.datetime.utcnow() # End date of data to download\n",
    "df = read_data_to_dataframe(symbols[1], provider,start_date=start_date,end_date=end_date)"
   ]
  },
  {
   "cell_type": "code",
   "execution_count": null,
   "outputs": [],
   "source": [
    "df.close.plot()"
   ],
   "metadata": {
    "collapsed": false,
    "pycharm": {
     "name": "#%%\n"
    }
   }
  },
  {
   "cell_type": "markdown",
   "source": [
    "## 3) BackTesting"
   ],
   "metadata": {
    "collapsed": false,
    "pycharm": {
     "name": "#%% md\n"
    }
   }
  },
  {
   "cell_type": "markdown",
   "metadata": {
    "pycharm": {
     "name": "#%% md\n"
    }
   },
   "source": [
    "## 3) BackTesting"
   ]
  },
  {
   "cell_type": "markdown",
   "metadata": {
    "pycharm": {
     "name": "#%% md\n"
    }
   },
   "source": [
    "### Settings"
   ]
  },
  {
   "cell_type": "code",
   "execution_count": 6,
   "metadata": {
    "pycharm": {
     "name": "#%%\n"
    }
   },
   "outputs": [],
   "source": [
    "provider = 'test'\n",
    "start_date = dt.datetime(2022,1,1) # Start date for backtesting\n",
    "\n",
    "strategy1 = {'id': 1, # unique id for strategy to run\n",
    "             'strategy': 'Simple_Avg_Cross', # strategy name, create in smartbots/crypto/strategies\n",
    "             'params': {'ticker': 'BTC-USDT',\n",
    "             'short_period': 10,\n",
    "             'long_period': 50,\n",
    "             'quantity': 0.1,\n",
    "             'limit_save_values':1000}}\n",
    "\n",
    "\n",
    "conf_portfolio = {'Name': 'PortfolioCrypto1',\n",
    "                  'Data_Sources': \n",
    "                  [{'ticker': 'BTC-USDT',\n",
    "                   'event_type': 'bar',\n",
    "                   'historical_source': 'mongoDB',\n",
    "                   'historical_library': f'{provider}_historical_1min'}],\n",
    "                   'Strategies': \n",
    "                    [strategy1]}"
   ]
  },
  {
   "cell_type": "code",
   "execution_count": 7,
   "metadata": {
    "pycharm": {
     "name": "#%%\n"
    }
   },
   "outputs": [
    {
     "name": "stdout",
     "output_type": "stream",
     "text": [
      "BTC-USDT_202201\n",
      "BTC-USDT_202202\n",
      "BTC-USDT_202203\n",
      "BTC-USDT_202204\n",
      "BTC-USDT_202205\n",
      "BTC-USDT_202206\n",
      "BTC-USDT_202207\n",
      "BTC-USDT_202208\n"
     ]
    }
   ],
   "source": [
    "portfolio = Portfolio_Constructor(conf_portfolio, run_real=False, asset_type='crypto',\n",
    "                                             send_orders_to_broker=False, start_date=start_date)\n",
    "portfolio.run_simulation() # backtest \n",
    "\n",
    "info_port = portfolio.get_saved_values_strategy() # read change of positions"
   ]
  },
  {
   "cell_type": "code",
   "execution_count": 5,
   "metadata": {
    "pycharm": {
     "name": "#%%\n"
    }
   },
   "outputs": [
    {
     "data": {
      "text/plain": [
       "5325"
      ]
     },
     "execution_count": 5,
     "metadata": {},
     "output_type": "execute_result"
    }
   ],
   "source": [
    "len(portfolio.orders)"
   ]
  },
  {
   "cell_type": "code",
   "execution_count": null,
   "metadata": {
    "pycharm": {
     "name": "#%%\n"
    }
   },
   "outputs": [],
   "source": []
  }
 ],
 "metadata": {
  "kernelspec": {
   "display_name": "Python 3 (ipykernel)",
   "language": "python",
   "name": "python3"
  },
  "language_info": {
   "codemirror_mode": {
    "name": "ipython",
    "version": 3
   },
   "file_extension": ".py",
   "mimetype": "text/x-python",
   "name": "python",
   "nbconvert_exporter": "python",
   "pygments_lexer": "ipython3",
   "version": "3.8.10"
  }
 },
 "nbformat": 4,
 "nbformat_minor": 1
}