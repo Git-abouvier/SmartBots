{
 "cells": [
  {
   "cell_type": "markdown",
   "metadata": {},
   "source": [
    "# Backtest a  Strategy"
   ]
  },
  {
   "cell_type": "code",
   "execution_count": 1,
   "metadata": {},
   "outputs": [
    {
     "name": "stderr",
     "output_type": "stream",
     "text": [
      "/usr/local/lib/python3.8/site-packages/arctic/store/_pandas_ndarray_store.py:8: FutureWarning: The Panel class is removed from pandas. Accessing it from the top-level namespace will also be removed in the next version\n",
      "  from pandas import Panel\n"
     ]
    }
   ],
   "source": [
    "%matplotlib inline\n",
    "import quantstats as qs\n",
    "# extend pandas functionality with metrics, etc.\n",
    "qs.extend_pandas()\n",
    "from smartbots.crypto.historical_downloader import historical_downloader, save_test_data\n",
    "import datetime as dt\n",
    "import pandas as pd\n",
    "from smartbots.engine.data_reader import read_data_to_dataframe\n",
    "from smartbots.engine.portfolio_constructor import Portfolio_Constructor"
   ]
  },
  {
   "cell_type": "markdown",
   "metadata": {},
   "source": [
    "## 1) Download Historical Data from Data Provider and save into the database.\n",
    "If you already have the data in a database, you can skip this step and go to the next.\n",
    "\n",
    "Dependings of the symbols and the length of the data, the data loader will take some time to complete. Be pacience.\n",
    "\n",
    "If there are already some data in the database, it will update only the new data.\n"
   ]
  },
  {
   "cell_type": "code",
   "execution_count": 3,
   "metadata": {},
   "outputs": [
    {
     "name": "stdout",
     "output_type": "stream",
     "text": [
      "Historical data already exists in temp folder\n",
      "2022-08-25 09:41:00\n",
      "2022-08-24 08:41:00\n",
      "2022-08-23 07:41:00\n",
      "2022-08-22 06:41:00\n",
      "2022-08-21 05:41:00\n",
      "2022-08-20 04:41:00\n",
      "2022-08-19 03:41:00\n",
      "2022-08-18 02:41:00\n",
      "2022-08-17 01:41:00\n",
      "2022-08-16 00:41:00\n",
      "2022-08-14 23:41:00\n",
      "2022-08-13 22:41:00\n",
      "2022-08-12 21:41:00\n",
      "2022-08-11 20:41:00\n",
      "2022-08-10 19:41:00\n",
      "2022-08-09 18:41:00\n",
      "2022-08-08 17:41:00\n",
      "2022-08-07 16:41:00\n",
      "2022-08-06 15:41:00\n",
      "2022-08-05 14:41:00\n",
      "2022-08-04 13:41:00\n",
      "2022-08-03 12:41:00\n",
      "2022-08-02 11:41:00\n",
      "2022-08-01 10:41:00\n",
      "2022-08-01 00:00:00\n"
     ]
    },
    {
     "name": "stderr",
     "output_type": "stream",
     "text": [
      "Pandas dataframe BTC-USDT_202208 contains Objects, saving as Blob\n",
      "Pandas dataframe BTC-USDT_202209 contains Objects, saving as Blob\n"
     ]
    },
    {
     "name": "stdout",
     "output_type": "stream",
     "text": [
      "Symbol BTC-USDT saved.\n",
      "* Historical data for BTC-USDT saved\n",
      "2022-09-16 06:42:00\n",
      "2022-09-15 05:42:00\n",
      "2022-09-14 04:42:00\n",
      "2022-09-13 03:42:00\n",
      "2022-09-12 02:42:00\n",
      "2022-09-11 01:42:00\n",
      "2022-09-10 00:42:00\n",
      "2022-09-08 23:42:00\n",
      "2022-09-07 22:42:00\n",
      "2022-09-06 21:42:00\n",
      "2022-09-05 20:42:00\n",
      "2022-09-04 19:42:00\n",
      "2022-09-03 18:42:00\n",
      "2022-09-02 17:42:00\n",
      "2022-09-01 16:42:00\n",
      "2022-08-31 15:42:00\n",
      "2022-08-30 14:42:00\n",
      "2022-08-29 13:42:00\n",
      "2022-08-28 12:42:00\n",
      "2022-08-27 11:42:00\n",
      "2022-08-26 10:42:00\n",
      "2022-08-25 09:42:00\n",
      "2022-08-24 08:42:00\n",
      "2022-08-23 07:42:00\n",
      "2022-08-22 06:42:00\n",
      "2022-08-21 05:42:00\n",
      "2022-08-20 04:42:00\n",
      "2022-08-19 03:42:00\n",
      "2022-08-18 02:42:00\n",
      "2022-08-17 01:42:00\n",
      "2022-08-16 00:42:00\n",
      "2022-08-14 23:42:00\n",
      "Waiting for 10 seconds for limits of requests\n",
      "2022-08-13 22:42:00\n",
      "2022-08-12 21:42:00\n",
      "2022-08-11 20:42:00\n",
      "2022-08-10 19:42:00\n",
      "2022-08-09 18:42:00\n",
      "2022-08-08 17:42:00\n",
      "2022-08-07 16:42:00\n",
      "2022-08-06 15:42:00\n",
      "2022-08-05 14:42:00\n",
      "2022-08-04 13:42:00\n",
      "2022-08-03 12:42:00\n",
      "2022-08-02 11:42:00\n",
      "2022-08-01 10:42:00\n",
      "2022-08-01 00:00:00\n"
     ]
    },
    {
     "name": "stderr",
     "output_type": "stream",
     "text": [
      "Pandas dataframe ETH-USDT_202208 contains Objects, saving as Blob\n",
      "Pandas dataframe ETH-USDT_202209 contains Objects, saving as Blob\n"
     ]
    },
    {
     "name": "stdout",
     "output_type": "stream",
     "text": [
      "Symbol ETH-USDT saved.\n",
      "* Historical data for ETH-USDT saved\n"
     ]
    }
   ],
   "source": [
    "# Parameters\n",
    "test = False  # set False if you have the keys for the exchange and you copy it on docker/compose.env.\n",
    "\n",
    "if test:\n",
    "    provider ='test'\n",
    "    save_test_data()\n",
    "else:\n",
    "    provider = 'kucoin'\n",
    "    symbols = [\"BTC-USDT\",\"ETH-USDT\"] # List of symbols to download from provider\n",
    "    start_date = dt.datetime(2022,8,1) # Start date of data to download\n",
    "    end_date = dt.datetime.utcnow() # End date of data to download\n",
    "    interval = '1min' # Interval of data to download\n",
    "    historical_downloader(symbols=symbols,start_date=start_date, end_date=dt.datetime.utcnow(),\n",
    "           provider=provider,clean_symbols_database=[],interval=interval)"
   ]
  },
  {
   "cell_type": "markdown",
   "metadata": {},
   "source": [
    "## 2) Read Historical Data from Database and Visualize it.\n"
   ]
  },
  {
   "cell_type": "code",
   "execution_count": null,
   "metadata": {},
   "outputs": [],
   "source": [
    "provider = 'kucoin'\n",
    "symbols = [\"BTC-USDT\",\"ETH-USDT\"] # List of symbols to download from provider\n",
    "start_date = dt.datetime(2022,8,1) # Start date of data to download\n",
    "end_date = dt.datetime.utcnow() # End date of data to download\n",
    "df1 = read_data_to_dataframe(symbols[0], provider,start_date=start_date,end_date=end_date)\n",
    "df2 = read_data_to_dataframe(symbols[-1], provider,start_date=start_date,end_date=end_date)\n",
    "df = pd.concat([df1,df2],axis=0)"
   ]
  },
  {
   "cell_type": "code",
   "execution_count": null,
   "metadata": {},
   "outputs": [],
   "source": [
    "df1.close.plot()"
   ]
  },
  {
   "cell_type": "markdown",
   "metadata": {},
   "source": [
    "## 3) BackTesting"
   ]
  },
  {
   "cell_type": "markdown",
   "metadata": {},
   "source": [
    "### Settings"
   ]
  },
  {
   "cell_type": "code",
   "execution_count": 5,
   "metadata": {
    "collapsed": false,
    "jupyter": {
     "outputs_hidden": false
    }
   },
   "outputs": [],
   "source": [
    "provider = 'kucoin'\n",
    "inicial_cash = 50000 # initial capital for the portfolio\n",
    "start_date = dt.datetime(2022,8,1) # Start date for backtesting\n",
    "\n",
    "\n",
    "strategy1 = {'id': 1, # unique id for strategy to run\n",
    "             'strategy': 'Simple_Avg_Cross', # strategy name, create in smartbots/crypto/strategies\n",
    "             'params': {'ticker': 'BTC-USDT',\n",
    "             'short_period': 10,\n",
    "             'long_period': 500,\n",
    "             'quantity': 1,\n",
    "             'limit_save_values':1000,'point_value':1,'slippage':0}}\n",
    "\n",
    "strategy2 = {'id': 2, # unique id for strategy to run\n",
    "             'strategy': 'Simple_Avg_Cross', # strategy name, create in smartbots/crypto/strategies\n",
    "             'params': {'ticker': 'ETH-USDT',\n",
    "             'short_period': 10,\n",
    "             'long_period': 500,\n",
    "             'quantity': 1,\n",
    "             'limit_save_values':1000,'point_value':1,'slippage':0}}\n",
    "\n",
    "\n",
    "\n",
    "conf_portfolio = {'Name': 'PortfolioCrypto1',\n",
    "                  'Data_Sources': \n",
    "                  [{'tickers': ['BTC-USDT','ETH-USDT'],\n",
    "                   'event_type': 'bar',\n",
    "                   'historical_source': 'mongoDB',\n",
    "                   'historical_library': f'{provider}_historical_1min'}],\n",
    "                   'Strategies': \n",
    "                    [strategy1, strategy2]}"
   ]
  },
  {
   "cell_type": "code",
   "execution_count": null,
   "metadata": {
    "collapsed": false,
    "jupyter": {
     "outputs_hidden": false
    }
   },
   "outputs": [
    {
     "name": "stdout",
     "output_type": "stream",
     "text": [
      "BTC-USDT_202208\n",
      "ETH-USDT_202208\n"
     ]
    }
   ],
   "source": [
    "portfolio = Portfolio_Constructor(conf_portfolio, run_real=False, asset_type='crypto',\n",
    "                                             send_orders_to_broker=False, start_date=start_date,\n",
    "                                  inicial_cash=inicial_cash)\n",
    "portfolio.run_simulation() # backtest \n",
    "\n",
    "info_port = portfolio.get_saved_values_strategy() # read change of positions"
   ]
  },
  {
   "cell_type": "markdown",
   "metadata": {},
   "source": [
    "## Statistics\n",
    "\n",
    "Plots and statistics of the Strategies and the Portfolio."
   ]
  },
  {
   "cell_type": "code",
   "execution_count": null,
   "metadata": {
    "collapsed": false,
    "jupyter": {
     "outputs_hidden": false
    }
   },
   "outputs": [],
   "source": [
    "equities =portfolio.equity_handler.get_equities()\n",
    "portfolio = equities['equity_portfolio']['equity']\n",
    "port_return = portfolio.pct_change()\n",
    "qs.plots.snapshot(portfolio, title='Portfolio Performance')"
   ]
  },
  {
   "cell_type": "code",
   "execution_count": null,
   "metadata": {
    "collapsed": false,
    "jupyter": {
     "outputs_hidden": false
    }
   },
   "outputs": [],
   "source": [
    "qs.reports.metrics(port_return, \"BTC\",mode= 'basic')"
   ]
  }
 ],
 "metadata": {
  "kernelspec": {
   "display_name": "Python 3 (ipykernel)",
   "language": "python",
   "name": "python3"
  },
  "language_info": {
   "codemirror_mode": {
    "name": "ipython",
    "version": 3
   },
   "file_extension": ".py",
   "mimetype": "text/x-python",
   "name": "python",
   "nbconvert_exporter": "python",
   "pygments_lexer": "ipython3",
   "version": "3.8.10"
  }
 },
 "nbformat": 4,
 "nbformat_minor": 4
}
